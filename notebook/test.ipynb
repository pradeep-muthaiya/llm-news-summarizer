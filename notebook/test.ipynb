{
 "cells": [
  {
   "cell_type": "markdown",
   "metadata": {},
   "source": [
    "# Notebook for Testing Purposes"
   ]
  },
  {
   "cell_type": "markdown",
   "metadata": {},
   "source": [
    "### Testing News API\n",
    "\n",
    "url: https://newsdata.io/api/1/latest\n",
    "<br>\n",
    "api docs: https://newsdata.io/documentation/#latest-news"
   ]
  },
  {
   "cell_type": "code",
   "execution_count": 6,
   "metadata": {},
   "outputs": [],
   "source": [
    "import json\n",
    "\n",
    "def read_secrets(secrets_file):\n",
    "    with open(secrets_file, \"r\") as file:\n",
    "        data = file.read()\n",
    "        return json.loads(data)"
   ]
  },
  {
   "cell_type": "code",
   "execution_count": 15,
   "metadata": {},
   "outputs": [
    {
     "data": {
      "text/plain": [
       "<Response [200]>"
      ]
     },
     "execution_count": 15,
     "metadata": {},
     "output_type": "execute_result"
    }
   ],
   "source": [
    "import requests\n",
    "\n",
    "data = read_secrets(\"secrets.json\")\n",
    "url = f\"https://newsdata.io/api/1/latest?apikey={data['newsdata.io']}&language=en&q=Palestine\"\n",
    "response = requests.get(url)\n",
    "response.json()['results'][0]"
   ]
  },
  {
   "cell_type": "code",
   "execution_count": 30,
   "metadata": {},
   "outputs": [
    {
     "data": {
      "text/plain": [
       "{'article_id': '9544d5562f924a80e13b22cf31c6f054',\n",
       " 'title': 'Labor senator crosses floor to support Palestine statehood',\n",
       " 'link': 'https://www.bluemountainsgazette.com.au/story/8675053/fatima-payman-crosses-floor-on-palestine-recognition-vote/?src=rss',\n",
       " 'keywords': None,\n",
       " 'creator': ['Miriam Webber'],\n",
       " 'video_url': None,\n",
       " 'description': 'Senator says she made the decision in the chamber.',\n",
       " 'content': 'ONLY AVAILABLE IN PAID PLANS',\n",
       " 'pubDate': '2024-06-25 07:56:00',\n",
       " 'image_url': 'https://www.bluemountainsgazette.com.au/images/transform/v1/crop/frm/143258707/cce4e2db-4214-460b-a3eb-adfbb42a0782.jpg/r0_336_5000_3153_w600_h338_fmax.jpg',\n",
       " 'source_id': 'bluemountainsgazette',\n",
       " 'source_priority': 899530,\n",
       " 'source_url': 'https://www.bluemountainsgazette.com.au',\n",
       " 'source_icon': 'https://i.bytvi.com/domain_icons/bluemountainsgazette.png',\n",
       " 'language': 'english',\n",
       " 'country': ['australia'],\n",
       " 'category': ['top'],\n",
       " 'ai_tag': 'ONLY AVAILABLE IN PROFESSIONAL AND CORPORATE PLANS',\n",
       " 'sentiment': 'ONLY AVAILABLE IN PROFESSIONAL AND CORPORATE PLANS',\n",
       " 'sentiment_stats': 'ONLY AVAILABLE IN PROFESSIONAL AND CORPORATE PLANS',\n",
       " 'ai_region': 'ONLY AVAILABLE IN CORPORATE PLANS',\n",
       " 'ai_org': 'ONLY AVAILABLE IN CORPORATE PLANS'}"
      ]
     },
     "execution_count": 30,
     "metadata": {},
     "output_type": "execute_result"
    }
   ],
   "source": [
    "data = read_secrets(\"secrets.json\")\n",
    "url = f\"https://newsdata.io/api/1/latest?apikey={data['newsdata.io']}&language=en&q=Palestine\"\n",
    "response = requests.get(url)\n",
    "response.json()['results'][0]"
   ]
  },
  {
   "cell_type": "code",
   "execution_count": 40,
   "metadata": {},
   "outputs": [],
   "source": [
    "import urllib\n",
    "params = urllib.parse.urlencode({\n",
    "    'api_token': data['thenewsapi.com'],\n",
    "    'categories': 'business,tech',\n",
    "    'language': 'en',\n",
    "    'locale': 'us'\n",
    "    })\n",
    "url = \"https://api.thenewsapi.com/v1/news/top?{}\".format(params)\n",
    "resp = requests.get(url)"
   ]
  },
  {
   "cell_type": "code",
   "execution_count": 41,
   "metadata": {},
   "outputs": [
    {
     "data": {
      "text/plain": [
       "{'meta': {'found': 242441, 'returned': 3, 'limit': 3, 'page': 1},\n",
       " 'data': [{'uuid': 'a392b09a-9137-4f62-9e14-1b83533cedec',\n",
       "   'title': \"We're not ready to echo Goldman's call to buy Disney — here's why\",\n",
       "   'description': 'Goldman Sachs offers plenty of reasons to like Disney in the years ahead. But Jim Cramer expects the near-term road to remain choppy for the stock.',\n",
       "   'keywords': 'Breaking News: Business, Jim Cramer, stock takes, Investment strategy, Markets, Breaking News: Markets, Walt Disney Co, Fox Corp. Class A, Comcast Corp, Netflix Inc, Media, business news',\n",
       "   'snippet': \"Disney picked up an endorsement from a top Wall Street firm — but Jim Cramer said the analysts' reasons to buy are not enough to drive the stock higher. Goldm...\",\n",
       "   'url': 'https://www.cnbc.com/2024/06/25/were-not-ready-to-echo-goldmans-call-to-buy-disney-heres-why-.html',\n",
       "   'image_url': 'https://image.cnbcfm.com/api/v1/image/107368218-1706880038262-gettyimages-1978616072-jr024368_t0xr.jpeg?v=1719335298&w=1920&h=1080',\n",
       "   'language': 'en',\n",
       "   'published_at': '2024-06-25T19:35:53.000000Z',\n",
       "   'source': 'cnbc.com',\n",
       "   'categories': ['general', 'business'],\n",
       "   'relevance_score': None,\n",
       "   'locale': 'us'},\n",
       "  {'uuid': '8dea93b9-52bb-4eaf-b972-1d5d3349e079',\n",
       "   'title': 'Reasons to Add Evergy Shares to Your Portfolio Now - Evergy (NASDAQ:EVRG), Consolidated Edison (NYSE:ED)',\n",
       "   'description': \"Evergy's (NASDAQ: EVRG) systematic investments to strengthen its infrastructure will assist it in improving service reliability. EVRG continues to benefit from ...\",\n",
       "   'keywords': '',\n",
       "   'snippet': \"Loading... Loading...\\n\\nEvergy's EVRG systematic investments to strengthen its infrastructure will assist it in improving service reliability. EVRG continues to ...\",\n",
       "   'url': 'https://www.benzinga.com/news/earnings/24/06/39481108/reasons-to-add-evergy-shares-to-your-portfolio-now',\n",
       "   'image_url': 'https://cdn.benzinga.com/files/images/story/2024/06/25/mathieu-stern-1zo4o3z0uja-unsplash_0.jpg?width=1200&height=800&fit=crop',\n",
       "   'language': 'en',\n",
       "   'published_at': '2024-06-25T19:33:11.000000Z',\n",
       "   'source': 'benzinga.com',\n",
       "   'categories': ['business'],\n",
       "   'relevance_score': None,\n",
       "   'locale': 'us'},\n",
       "  {'uuid': '1213dd74-245f-4922-983f-7d2e2bdf89ca',\n",
       "   'title': 'Large Banks to be Conservative About Shareholder Payouts - Citigroup (NYSE:C), Bank of America (NYSE:BAC)',\n",
       "   'description': \"The Federal Reserve is slated to announce its annual bank health check results on Jun 26. Also known as the ‘stress test' the results will show how much capit...\",\n",
       "   'keywords': '',\n",
       "   'snippet': \"Loading... Loading...\\n\\nThe Federal Reserve is slated to announce its annual bank health check results on Jun 26. Also known as the ‘stress test' the results w...\",\n",
       "   'url': 'https://www.benzinga.com/news/24/06/39481120/large-banks-to-be-conservative-about-shareholder-payouts',\n",
       "   'image_url': 'https://cdn.benzinga.com/files/images/story/2024/06/25/alexander-mils-lcphgxs7pww-unsplash_0.jpg?width=1200&height=800&fit=crop',\n",
       "   'language': 'en',\n",
       "   'published_at': '2024-06-25T19:32:38.000000Z',\n",
       "   'source': 'benzinga.com',\n",
       "   'categories': ['business'],\n",
       "   'relevance_score': None,\n",
       "   'locale': 'us'}]}"
      ]
     },
     "execution_count": 41,
     "metadata": {},
     "output_type": "execute_result"
    }
   ],
   "source": [
    "resp.json()"
   ]
  },
  {
   "cell_type": "code",
   "execution_count": 5,
   "metadata": {},
   "outputs": [
    {
     "name": "stdout",
     "output_type": "stream",
     "text": [
      "Reading now:  https://news.google.com/rss/search?q=\"economics\"\n"
     ]
    }
   ],
   "source": [
    "import time\n",
    "import re\n",
    "import bs4\n",
    "import urllib\n",
    "import urllib.request as ur\n",
    "import feedparser\n",
    "# Get Alexa Rank - remember it only works from USA so you need a proxy\n",
    "def getMetrics(url):\n",
    "    cleanDomain = '/'.join(url.split('/')[:3])\n",
    "    try:\n",
    "        alexa_rank = bs4.BeautifulSoup(ur.urlopen(\"http://data.alexa.com/data?cli=10&dat=s&url=\"+ url), \"xml\").find(\"REACH\")[\"RANK\"]\n",
    "    except:\n",
    "        alexa_rank = None\n",
    "    return alexa_rank\n",
    " \n",
    "# HTML cleanup function\n",
    "def cleanhtml(raw_html):\n",
    "  cleanr = re.compile('<.*?>')\n",
    "  cleantext = re.sub(cleanr, '', raw_html)\n",
    "  return cleantext\n",
    "\n",
    "# Access the feed and store data in d\n",
    "def readFeed(url,query):\n",
    "\n",
    "    feed = feedparser.parse(url)\n",
    "\n",
    "    # Loop items in the feed\n",
    "    d = []\n",
    "\n",
    "    for post in feed.entries:\n",
    "        title = post.title\n",
    "        link = post.link\n",
    "        # Converting published date to aaaa/mm/dd\n",
    "        pubDate = \"%d/%02d/%02d\" % (post.published_parsed.tm_year,\\\n",
    "            post.published_parsed.tm_mon, \\\n",
    "            post.published_parsed.tm_mday)\n",
    "\n",
    "        description = cleanhtml(post.summary)\n",
    "        source = post.source.title\n",
    "        # Get Alexa Rank\n",
    "        alexa_rank = getMetrics(link)\n",
    "        d.append((title, link, pubDate, description, source, query, alexa_rank))\n",
    "        #print(d)\n",
    "    \n",
    "    # Add delay between calls\n",
    "    time.sleep(2)\n",
    "    return d\n",
    "\n",
    "query = \"economics\"\n",
    "# URL encode the query and add quotes around it\n",
    "encoded_query = '\"' + urllib.parse.quote_plus(query) + '\"'        \n",
    "# Compose the URL    \n",
    "\n",
    "# Feed URL\n",
    "base_url = 'https://news.google.com/rss/search?q='\n",
    "\n",
    "url = base_url + encoded_query\n",
    "print(\"Reading now: \",url)\n",
    "# Read the Feed\n",
    "data = readFeed(url, query)"
   ]
  },
  {
   "cell_type": "code",
   "execution_count": 6,
   "metadata": {},
   "outputs": [],
   "source": [
    "#reference I followed: https://towardsdatascience.com/how-to-use-selenium-to-web-scrape-with-example-80f9b23a843a\n",
    "# \n",
    "from selenium import webdriver\n",
    "from selenium.webdriver.common.keys import Keys\n",
    "import pandas as pd\n",
    "#driver = webdriver.Chrome('/Users/mmuthaiya/Downloads/chromedriver-mac-x64/chromedriver')"
   ]
  },
  {
   "cell_type": "code",
   "execution_count": 27,
   "metadata": {},
   "outputs": [],
   "source": [
    "#url = \"https://news.google.com/rss/articles/CBMiYmh0dHBzOi8vd3d3LnBvbGl0aWZhY3QuY29tL2FydGljbGUvMjAyNC9qdW4vMjUvY29tcGFyaW5nLWVjb25vbWljLXBlcmZvcm1hbmNlLWZvci1ibGFjay1hbWVyaWNhbnMv0gEA?oc=5\"\n",
    "driver = webdriver.Chrome()\n",
    "url = data[5][1]\n",
    "driver.get(url)"
   ]
  },
  {
   "cell_type": "code",
   "execution_count": 30,
   "metadata": {},
   "outputs": [
    {
     "name": "stdout",
     "output_type": "stream",
     "text": [
      "Marketplace\n",
      "Sign up for the Marketplace newsletter to get the day’s biggest business stories, our economic analysis, and explainers to help you live smarter, straight to your inbox every weekday evening.\n",
      "Economists do not like talking about feelings. They didn’t sign up for feelings. Economists like talking about data, and the data looks strong: Unemployment is near record lows, GDP is growing, inflation is edging down, and wages are up. So why are our consumer confidence and consumer sentiment numbers so low? \n",
      "Martha Gimbel heads the Yale Budget Lab. She said being an economist right now is a little like being a doctor talking to a totally healthy patient, who keeps insisting they’re sick. \n",
      "“You’re saying like, ‘Your EKG is fine. Your blood work looks fine,'” said Gimbel. “The problem is that the patient keeps saying, ‘No, I’m not fine! I’m really not fine. I don’t feel good.'”\n",
      "Take the job market: Right now, according to surveys from the University of Michigan, people are really worried about losing their jobs — a lot more than they were before the pandemic. But according to the data, layoffs are at the lowest level they’ve been since the government started tracking those numbers in 2000. \n",
      "“You are incredibly unlikely to be laid off right now,” Gimbel insisted. So why don’t people feel that way?\n",
      "Julia Pollak is a labor economist with ZipRecruiter. She had a few ideas of what might be going on with this data-vibe disconnect. All of the reasons had to do with our feelings, and, in true economist fashion, Pollak offered some very official-sounding technical terms for each of these concepts:\n",
      "You might be thinking, “The job market is strong? It doesn’t feel strong! I’ve been reading about a bunch of layoffs for months!”\n",
      "Pollak said the key here is salience bias. There have been layoffs in the last six months, and those layoffs have happened in companies and industries the media covers a lot, like media and tech.  \n",
      "“The layoffs have grabbed headlines,” said Pollak. “That’s had an outsized effect on how we see the economy.”\n",
      "In other words, those layoffs feel a lot more salient to us than the hiring boom that’s been happening in health care, even though health care is a much bigger part of our economy. \n",
      "We feel losses deeply and they stay with us. \n",
      "“This is called loss aversion,” explained Pollak. “It’s the tendency for the pain of losing to be psychologically about twice as powerful as the pleasure of gaining.”\n",
      "If you lost a job in 2020, even if you eventually got a better job, the pain of the lost job looms larger. The bad times haunt us.\n",
      "Even if you’re better off today, overall, than you were before the pandemic, you will tend to measure your life against one glorious reference point: That month back in 2021 when you got two job offers in a week, your credit card balance was zero, and that dancing panda NFT you bought was worth $50,000 dollars. \n",
      "“ And that reference point is making it very difficult for people to feel happy now,” explained Pollak.\n",
      "In a lot of ways, it seems like we are determined to feel terrible about the economy. So in the midst of so much positive data, should economists even pay attention to our feelings? \n",
      "“Oh, economists do worry when consumer confidence falls,” said Pollak. “They worry that it will have real effects.”\n",
      "Real effects like people stop buying stuff. \n",
      "“And then, as a result, businesses will suffer and lay off workers and that will set off a negative cycle,” Pollak said.\n",
      "Consumer spending is about two-thirds of our economy: If people stop buying stuff, our vibecession will become a real recession, real fast. \n",
      "Still, in a lot of ways, we come by our economic pessimism honestly, said economist Martha Gimbel. That’s because economic data is very different than lived experience.\n",
      "“As an economist, when I think about inflation, I think: ‘Look, inflation’s coming down from its peak, there are all of these positive signs,'” said Gimbel. “A normal person goes to the grocery store and says, ‘Hey, I’m paying X for milk and I was paying much less than X two years ago.’ And it makes them feel really bad about the economy.  And both the economists and the normal people are correct.”\n",
      "But even by the lived experience measure, we should probably be happier: Our wages have risen faster than prices. Our pay has, on average, kept pace with groceries. So, why does our cost-of-milk-misery outweigh the pleasure of a plumper paycheck?  \n",
      "“Economists always emphasize people’s utility functions,” explained Gimbel. “How people value different inputs are their utility functions.”\n",
      "In other words, people are going to feel their feelings. Certain things are going to resonate more than others and it’s not always going to have a lot to do with logic. \n",
      "For instance, our vibecession might not be entirely logical. Gimbel speculated a lot of these feelings might be about, not what’s happening now, but because of the traumas we went through during the pandemic.\n",
      "“If you were talking about one of your friends who had had a really traumatic experience, you wouldn’t be saying to people, ‘Man, Mary just can’t get over what happened three years ago. Like, why is she so upset?'”\n",
      "Of course not! You’d understand that Mary was probably all up in her utility functions because her salience bias probably had her in a loss aversion spiral. And if you would just give Mary some time, her reference dependence would eventually shift and she would feel better. \n",
      "Hopefully, given some time, we will all start feeling better, so we can get back to good vibes and economists can get back to talking about data. \n",
      "There’s a lot happening in the world.  Through it all, Marketplace is here for you. \n",
      "You rely on Marketplace to break down the world’s events and tell you how it affects you in a fact-based, approachable way. We rely on your financial support to keep making that possible. \n",
      "Your donation today powers the independent journalism that you rely on. For just $5/month, you can help sustain Marketplace so we can keep reporting on the things that matter to you.  \n",
      "Fiscal Year Deadline\n",
      "We need your help to reach an important fundraising goal!\n"
     ]
    }
   ],
   "source": [
    "from selenium.webdriver.common.by import By\n",
    "vals = driver.find_elements(By.TAG_NAME, \"p\")\n",
    "for i in vals:\n",
    "    print(i.text)"
   ]
  },
  {
   "cell_type": "code",
   "execution_count": 29,
   "metadata": {},
   "outputs": [
    {
     "data": {
      "text/plain": [
       "['\\nMarketplace\\n\\n\\n\\n\\n',\n",
       " 'Sign up for the Marketplace newsletter to get the day’s biggest business stories, our economic analysis, and explainers to help you live smarter, straight to your inbox every weekday evening.',\n",
       " 'Economists do not like talking about feelings. They didn’t sign up for feelings. Economists like talking about data, and the data looks strong: Unemployment is near record lows, GDP is growing, inflation is edging down, and wages are up. So why are our consumer confidence and consumer sentiment numbers so low?\\xa0',\n",
       " 'Martha Gimbel heads the Yale Budget Lab. She said being an economist right now is a little like being a doctor talking to a totally healthy patient, who keeps insisting they’re sick.\\xa0',\n",
       " \"“You’re saying like, ‘Your EKG is fine. Your blood work looks fine,'” said Gimbel. “The problem is that the patient keeps saying, ‘No, I’m not fine! I’m really not fine. I don’t feel good.'”\",\n",
       " 'Take the job market: Right now, according to surveys from the University of Michigan, people are really worried about losing their jobs — a lot more than they were before the pandemic. But according to the data, layoffs are at the lowest level they’ve been since the government started tracking those numbers in 2000.\\xa0',\n",
       " '“You are incredibly unlikely to be laid off right now,” Gimbel insisted. So why don’t people feel that way?',\n",
       " 'Julia Pollak is a labor economist with ZipRecruiter. She had a few ideas of what might be going on with this data-vibe disconnect. All of the reasons had to do with our feelings, and, in true economist fashion, Pollak offered some very official-sounding technical terms for each of these concepts:',\n",
       " 'You might be thinking, “The job market is strong? It doesn’t feel strong! I’ve been reading about a bunch of layoffs for months!”',\n",
       " 'Pollak said the key here is salience bias. There have been layoffs in the last six months, and those layoffs have happened in companies and industries the media covers a lot, like media and tech.\\xa0\\xa0',\n",
       " '“The layoffs have grabbed headlines,” said Pollak. “That’s had an outsized effect on how we see the economy.”',\n",
       " 'In other words, those layoffs feel a lot more salient to us than the hiring boom that’s been happening in health care, even though health care is a much bigger part of our economy.\\xa0',\n",
       " 'We feel losses deeply and they stay with us.\\xa0',\n",
       " '“This is called loss aversion,” explained Pollak. “It’s the tendency for the pain of losing to be psychologically about twice as powerful as the pleasure of gaining.”',\n",
       " 'If you lost a job in 2020, even if you eventually got a better job, the pain of the lost job looms larger. The bad times haunt us.',\n",
       " 'Even if you’re better off today, overall, than you were before the pandemic, you will tend to measure your life against one glorious reference point: That month back in 2021 when you got two job offers in a week, your credit card balance was zero, and that dancing panda NFT you bought was worth $50,000 dollars.\\xa0',\n",
       " '“\\u200aAnd that reference point is making it very difficult for people to feel happy now,” explained Pollak.\\u200a',\n",
       " 'In a lot of ways, it seems like we are determined to feel terrible about the economy. So in the midst of so much positive data, should economists even pay attention to our feelings?\\xa0',\n",
       " '“Oh, economists do worry when consumer confidence falls,” said Pollak. “They worry that it will have real effects.”',\n",
       " 'Real effects like people stop buying stuff.\\xa0',\n",
       " '“And then, as a result, businesses will suffer and lay off workers and that will set off a negative cycle,” Pollak said.',\n",
       " 'Consumer spending is about two-thirds of our economy: If people stop buying stuff, our vibecession will become a real recession, real fast.\\xa0',\n",
       " 'Still, in a lot of ways, we come by our economic pessimism honestly, said economist Martha Gimbel. That’s because economic data is very different than lived experience.',\n",
       " \"“As an economist, when I think about inflation, I think: ‘Look, inflation’s coming down from its peak, there are all of these positive signs,'” said Gimbel. “A normal person goes to the grocery store and says, ‘Hey, I’m paying X for milk and I was paying much less than X two years ago.’ And it makes them feel really bad about the economy.\\xa0 And both the economists and the normal people are correct.”\",\n",
       " 'But even by the lived experience measure, we should probably be happier: Our wages have risen faster than prices. Our pay has, on average, kept pace with groceries. So, why does our cost-of-milk-misery outweigh the pleasure of a plumper paycheck?\\xa0\\xa0',\n",
       " '“Economists always emphasize people’s utility functions,” explained Gimbel. “How people value different inputs are their utility functions.”',\n",
       " 'In other words, people are going to feel their feelings. Certain things are going to resonate more than others and it’s not always going to have a lot to do with logic.\\xa0',\n",
       " 'For instance, our vibecession might not be entirely logical. Gimbel speculated a lot of these feelings might be about, not what’s happening now, but because of the traumas we went through during the pandemic.',\n",
       " \"“If you were talking about one of your friends who had had a really traumatic experience, you wouldn’t be saying to people, ‘Man, Mary just can’t get over what happened three years ago. Like, why is she so upset?'”\",\n",
       " 'Of course not! You’d understand that Mary was probably all up in her utility functions because her salience bias probably had her in a loss aversion spiral. And if you would just give Mary some time, her reference dependence would eventually shift and she would feel better.\\xa0',\n",
       " 'Hopefully, given some time, we will all start feeling better, so we can get back to good vibes and economists can get back to talking about data.\\xa0',\n",
       " 'There’s a lot happening in the world.\\xa0 Through it all, Marketplace is here for you.\\xa0',\n",
       " 'You rely on Marketplace to break down the world’s events and tell you how it affects you in a fact-based, approachable way. We rely on your financial support to keep making that possible.\\xa0',\n",
       " 'Your donation today powers the independent journalism that you rely on. For just $5/month, you can help sustain Marketplace so we can keep reporting on the things that matter to you. \\xa0',\n",
       " 'Fiscal Year Deadline',\n",
       " 'We need your help to reach an important fundraising goal!']"
      ]
     },
     "execution_count": 29,
     "metadata": {},
     "output_type": "execute_result"
    }
   ],
   "source": [
    "html = driver.page_source\n",
    "\n",
    "soup = bs4.BeautifulSoup(html)\n",
    "\n",
    "text_data = []\n",
    "for tag in soup.find_all('p'):\n",
    "    text_data.append(tag.text)\n",
    "text_data"
   ]
  },
  {
   "cell_type": "code",
   "execution_count": 26,
   "metadata": {},
   "outputs": [],
   "source": [
    "driver.close()"
   ]
  },
  {
   "cell_type": "code",
   "execution_count": null,
   "metadata": {},
   "outputs": [],
   "source": []
  }
 ],
 "metadata": {
  "kernelspec": {
   "display_name": "Python 3",
   "language": "python",
   "name": "python3"
  },
  "language_info": {
   "codemirror_mode": {
    "name": "ipython",
    "version": 3
   },
   "file_extension": ".py",
   "mimetype": "text/x-python",
   "name": "python",
   "nbconvert_exporter": "python",
   "pygments_lexer": "ipython3",
   "version": "3.11.9"
  }
 },
 "nbformat": 4,
 "nbformat_minor": 2
}
