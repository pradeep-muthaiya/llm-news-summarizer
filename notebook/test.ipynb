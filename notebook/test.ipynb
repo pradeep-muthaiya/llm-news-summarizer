{
 "cells": [
  {
   "cell_type": "markdown",
   "metadata": {},
   "source": [
    "# Notebook for Testing Purposes"
   ]
  },
  {
   "cell_type": "markdown",
   "metadata": {},
   "source": [
    "### Testing News API\n",
    "\n",
    "url: https://newsdata.io/api/1/latest\n",
    "<br>\n",
    "api docs: https://newsdata.io/documentation/#latest-news"
   ]
  },
  {
   "cell_type": "code",
   "execution_count": 6,
   "metadata": {},
   "outputs": [],
   "source": [
    "import json\n",
    "\n",
    "def read_secrets(secrets_file):\n",
    "    with open(secrets_file, \"r\") as file:\n",
    "        data = file.read()\n",
    "        return json.loads(data)"
   ]
  },
  {
   "cell_type": "code",
   "execution_count": 15,
   "metadata": {},
   "outputs": [
    {
     "data": {
      "text/plain": [
       "<Response [200]>"
      ]
     },
     "execution_count": 15,
     "metadata": {},
     "output_type": "execute_result"
    }
   ],
   "source": [
    "import requests\n",
    "\n",
    "data = read_secrets(\"secrets.json\")\n",
    "url = f\"https://newsdata.io/api/1/latest?apikey={data['newsdata.io']}&language=en&q=Palestine\"\n",
    "response = requests.get(url)\n",
    "response.json()['results'][0]"
   ]
  },
  {
   "cell_type": "code",
   "execution_count": 30,
   "metadata": {},
   "outputs": [
    {
     "data": {
      "text/plain": [
       "{'article_id': '9544d5562f924a80e13b22cf31c6f054',\n",
       " 'title': 'Labor senator crosses floor to support Palestine statehood',\n",
       " 'link': 'https://www.bluemountainsgazette.com.au/story/8675053/fatima-payman-crosses-floor-on-palestine-recognition-vote/?src=rss',\n",
       " 'keywords': None,\n",
       " 'creator': ['Miriam Webber'],\n",
       " 'video_url': None,\n",
       " 'description': 'Senator says she made the decision in the chamber.',\n",
       " 'content': 'ONLY AVAILABLE IN PAID PLANS',\n",
       " 'pubDate': '2024-06-25 07:56:00',\n",
       " 'image_url': 'https://www.bluemountainsgazette.com.au/images/transform/v1/crop/frm/143258707/cce4e2db-4214-460b-a3eb-adfbb42a0782.jpg/r0_336_5000_3153_w600_h338_fmax.jpg',\n",
       " 'source_id': 'bluemountainsgazette',\n",
       " 'source_priority': 899530,\n",
       " 'source_url': 'https://www.bluemountainsgazette.com.au',\n",
       " 'source_icon': 'https://i.bytvi.com/domain_icons/bluemountainsgazette.png',\n",
       " 'language': 'english',\n",
       " 'country': ['australia'],\n",
       " 'category': ['top'],\n",
       " 'ai_tag': 'ONLY AVAILABLE IN PROFESSIONAL AND CORPORATE PLANS',\n",
       " 'sentiment': 'ONLY AVAILABLE IN PROFESSIONAL AND CORPORATE PLANS',\n",
       " 'sentiment_stats': 'ONLY AVAILABLE IN PROFESSIONAL AND CORPORATE PLANS',\n",
       " 'ai_region': 'ONLY AVAILABLE IN CORPORATE PLANS',\n",
       " 'ai_org': 'ONLY AVAILABLE IN CORPORATE PLANS'}"
      ]
     },
     "execution_count": 30,
     "metadata": {},
     "output_type": "execute_result"
    }
   ],
   "source": [
    "data = read_secrets(\"secrets.json\")\n",
    "url = f\"https://newsdata.io/api/1/latest?apikey={data['newsdata.io']}&language=en&q=Palestine\"\n",
    "response = requests.get(url)\n",
    "response.json()['results'][0]"
   ]
  },
  {
   "cell_type": "code",
   "execution_count": 40,
   "metadata": {},
   "outputs": [],
   "source": [
    "import urllib\n",
    "params = urllib.parse.urlencode({\n",
    "    'api_token': data['thenewsapi.com'],\n",
    "    'categories': 'business,tech',\n",
    "    'language': 'en',\n",
    "    'locale': 'us'\n",
    "    })\n",
    "url = \"https://api.thenewsapi.com/v1/news/top?{}\".format(params)\n",
    "resp = requests.get(url)"
   ]
  },
  {
   "cell_type": "code",
   "execution_count": 41,
   "metadata": {},
   "outputs": [
    {
     "data": {
      "text/plain": [
       "{'meta': {'found': 242441, 'returned': 3, 'limit': 3, 'page': 1},\n",
       " 'data': [{'uuid': 'a392b09a-9137-4f62-9e14-1b83533cedec',\n",
       "   'title': \"We're not ready to echo Goldman's call to buy Disney — here's why\",\n",
       "   'description': 'Goldman Sachs offers plenty of reasons to like Disney in the years ahead. But Jim Cramer expects the near-term road to remain choppy for the stock.',\n",
       "   'keywords': 'Breaking News: Business, Jim Cramer, stock takes, Investment strategy, Markets, Breaking News: Markets, Walt Disney Co, Fox Corp. Class A, Comcast Corp, Netflix Inc, Media, business news',\n",
       "   'snippet': \"Disney picked up an endorsement from a top Wall Street firm — but Jim Cramer said the analysts' reasons to buy are not enough to drive the stock higher. Goldm...\",\n",
       "   'url': 'https://www.cnbc.com/2024/06/25/were-not-ready-to-echo-goldmans-call-to-buy-disney-heres-why-.html',\n",
       "   'image_url': 'https://image.cnbcfm.com/api/v1/image/107368218-1706880038262-gettyimages-1978616072-jr024368_t0xr.jpeg?v=1719335298&w=1920&h=1080',\n",
       "   'language': 'en',\n",
       "   'published_at': '2024-06-25T19:35:53.000000Z',\n",
       "   'source': 'cnbc.com',\n",
       "   'categories': ['general', 'business'],\n",
       "   'relevance_score': None,\n",
       "   'locale': 'us'},\n",
       "  {'uuid': '8dea93b9-52bb-4eaf-b972-1d5d3349e079',\n",
       "   'title': 'Reasons to Add Evergy Shares to Your Portfolio Now - Evergy (NASDAQ:EVRG), Consolidated Edison (NYSE:ED)',\n",
       "   'description': \"Evergy's (NASDAQ: EVRG) systematic investments to strengthen its infrastructure will assist it in improving service reliability. EVRG continues to benefit from ...\",\n",
       "   'keywords': '',\n",
       "   'snippet': \"Loading... Loading...\\n\\nEvergy's EVRG systematic investments to strengthen its infrastructure will assist it in improving service reliability. EVRG continues to ...\",\n",
       "   'url': 'https://www.benzinga.com/news/earnings/24/06/39481108/reasons-to-add-evergy-shares-to-your-portfolio-now',\n",
       "   'image_url': 'https://cdn.benzinga.com/files/images/story/2024/06/25/mathieu-stern-1zo4o3z0uja-unsplash_0.jpg?width=1200&height=800&fit=crop',\n",
       "   'language': 'en',\n",
       "   'published_at': '2024-06-25T19:33:11.000000Z',\n",
       "   'source': 'benzinga.com',\n",
       "   'categories': ['business'],\n",
       "   'relevance_score': None,\n",
       "   'locale': 'us'},\n",
       "  {'uuid': '1213dd74-245f-4922-983f-7d2e2bdf89ca',\n",
       "   'title': 'Large Banks to be Conservative About Shareholder Payouts - Citigroup (NYSE:C), Bank of America (NYSE:BAC)',\n",
       "   'description': \"The Federal Reserve is slated to announce its annual bank health check results on Jun 26. Also known as the ‘stress test' the results will show how much capit...\",\n",
       "   'keywords': '',\n",
       "   'snippet': \"Loading... Loading...\\n\\nThe Federal Reserve is slated to announce its annual bank health check results on Jun 26. Also known as the ‘stress test' the results w...\",\n",
       "   'url': 'https://www.benzinga.com/news/24/06/39481120/large-banks-to-be-conservative-about-shareholder-payouts',\n",
       "   'image_url': 'https://cdn.benzinga.com/files/images/story/2024/06/25/alexander-mils-lcphgxs7pww-unsplash_0.jpg?width=1200&height=800&fit=crop',\n",
       "   'language': 'en',\n",
       "   'published_at': '2024-06-25T19:32:38.000000Z',\n",
       "   'source': 'benzinga.com',\n",
       "   'categories': ['business'],\n",
       "   'relevance_score': None,\n",
       "   'locale': 'us'}]}"
      ]
     },
     "execution_count": 41,
     "metadata": {},
     "output_type": "execute_result"
    }
   ],
   "source": [
    "resp.json()"
   ]
  },
  {
   "cell_type": "code",
   "execution_count": 45,
   "metadata": {},
   "outputs": [
    {
     "ename": "IndexError",
     "evalue": "list index out of range",
     "output_type": "error",
     "traceback": [
      "\u001b[0;31m---------------------------------------------------------------------------\u001b[0m",
      "\u001b[0;31mIndexError\u001b[0m                                Traceback (most recent call last)",
      "Cell \u001b[0;32mIn[45], line 6\u001b[0m\n\u001b[1;32m      3\u001b[0m url \u001b[38;5;241m=\u001b[39m \u001b[38;5;124m\"\u001b[39m\u001b[38;5;124mhttps://www.cnn.com/rss\u001b[39m\u001b[38;5;124m\"\u001b[39m\n\u001b[1;32m      4\u001b[0m feed \u001b[38;5;241m=\u001b[39m feedparser\u001b[38;5;241m.\u001b[39mparse(url)\n\u001b[0;32m----> 6\u001b[0m entry \u001b[38;5;241m=\u001b[39m \u001b[43mfeed\u001b[49m\u001b[38;5;241;43m.\u001b[39;49m\u001b[43mentries\u001b[49m\u001b[43m[\u001b[49m\u001b[38;5;241;43m1\u001b[39;49m\u001b[43m]\u001b[49m\n\u001b[1;32m      8\u001b[0m \u001b[38;5;28mprint\u001b[39m(entry\u001b[38;5;241m.\u001b[39mkeys())\n",
      "\u001b[0;31mIndexError\u001b[0m: list index out of range"
     ]
    }
   ],
   "source": [
    "import feedparser\n",
    "\n",
    "url = \"https://www.cnn.com/rss\"\n",
    "feed = feedparser.parse(url)\n",
    "\n",
    "entry = feed.entries[1]\n",
    "\n",
    "print(entry.keys())"
   ]
  },
  {
   "cell_type": "code",
   "execution_count": 48,
   "metadata": {},
   "outputs": [
    {
     "name": "stdout",
     "output_type": "stream",
     "text": [
      "\n"
     ]
    }
   ],
   "source": [
    "NewsFeed = feedparser.parse(\"https://timesofindia.indiatimes.com/rssfeedstopstories.cms\")\n",
    "entry = NewsFeed.entries[1]\n",
    "\n",
    "#print(entry.published)\n",
    "print(entry.summary)"
   ]
  },
  {
   "cell_type": "code",
   "execution_count": 62,
   "metadata": {},
   "outputs": [
    {
     "name": "stdout",
     "output_type": "stream",
     "text": [
      "Reading now:  https://news.google.com/rss/search?q=\"economics\"\n"
     ]
    }
   ],
   "source": [
    "import time\n",
    "import re\n",
    "import bs4\n",
    "import urllib\n",
    "import urllib.request as ur\n",
    "\n",
    "# Get Alexa Rank - remember it only works from USA so you need a proxy\n",
    "def getMetrics(url):\n",
    "    cleanDomain = '/'.join(url.split('/')[:3])\n",
    "    try:\n",
    "        alexa_rank = bs4.BeautifulSoup(ur.urlopen(\"http://data.alexa.com/data?cli=10&dat=s&url=\"+ url), \"xml\").find(\"REACH\")[\"RANK\"]\n",
    "    except:\n",
    "        alexa_rank = None\n",
    "    return alexa_rank\n",
    " \n",
    "# HTML cleanup function\n",
    "def cleanhtml(raw_html):\n",
    "  cleanr = re.compile('<.*?>')\n",
    "  cleantext = re.sub(cleanr, '', raw_html)\n",
    "  return cleantext\n",
    "\n",
    "# Access the feed and store data in d\n",
    "def readFeed(url,query):\n",
    "\n",
    "    feed = feedparser.parse(url)\n",
    "\n",
    "    # Loop items in the feed\n",
    "    d = []\n",
    "\n",
    "    for post in feed.entries:\n",
    "        title = post.title\n",
    "        link = post.link\n",
    "        # Converting published date to aaaa/mm/dd\n",
    "        pubDate = \"%d/%02d/%02d\" % (post.published_parsed.tm_year,\\\n",
    "            post.published_parsed.tm_mon, \\\n",
    "            post.published_parsed.tm_mday)\n",
    "\n",
    "        description = cleanhtml(post.summary)\n",
    "        source = post.source.title\n",
    "        # Get Alexa Rank\n",
    "        alexa_rank = getMetrics(link)\n",
    "        d.append((title, link, pubDate, description, source, query, alexa_rank))\n",
    "        #print(d)\n",
    "    \n",
    "    # Add delay between calls\n",
    "    time.sleep(2)\n",
    "    return d\n",
    "\n",
    "query = \"economics\"\n",
    "# URL encode the query and add quotes around it\n",
    "encoded_query = '\"' + urllib.parse.quote_plus(query) + '\"'        \n",
    "# Compose the URL    \n",
    "\n",
    "# Feed URL\n",
    "base_url = 'https://news.google.com/rss/search?q='\n",
    "\n",
    "url = base_url + encoded_query\n",
    "print(\"Reading now: \",url)\n",
    "# Read the Feed\n",
    "data = readFeed(url, query)"
   ]
  },
  {
   "cell_type": "code",
   "execution_count": 65,
   "metadata": {},
   "outputs": [],
   "source": [
    "#reference I followed: https://towardsdatascience.com/how-to-use-selenium-to-web-scrape-with-example-80f9b23a843a\n",
    "# \n",
    "from selenium import webdriver\n",
    "from selenium.webdriver.common.keys import Keys\n",
    "import pandas as pd\n",
    "#driver = webdriver.Chrome('/Users/mmuthaiya/Downloads/chromedriver-mac-x64/chromedriver')"
   ]
  },
  {
   "cell_type": "code",
   "execution_count": 84,
   "metadata": {},
   "outputs": [],
   "source": [
    "#url = \"https://news.google.com/rss/articles/CBMiYmh0dHBzOi8vd3d3LnBvbGl0aWZhY3QuY29tL2FydGljbGUvMjAyNC9qdW4vMjUvY29tcGFyaW5nLWVjb25vbWljLXBlcmZvcm1hbmNlLWZvci1ibGFjay1hbWVyaWNhbnMv0gEA?oc=5\"\n",
    "driver = webdriver.Chrome()\n",
    "url = data[3][1]\n",
    "driver.get(url)"
   ]
  },
  {
   "cell_type": "code",
   "execution_count": 85,
   "metadata": {},
   "outputs": [],
   "source": [
    "html = driver.page_source\n",
    "\n",
    "soup = bs4.BeautifulSoup(html)\n",
    "\n",
    "text_data = []\n",
    "for tag in soup.find_all('p'):\n",
    "    text_data.append(tag.text)"
   ]
  },
  {
   "cell_type": "code",
   "execution_count": 87,
   "metadata": {},
   "outputs": [
    {
     "name": "stdout",
     "output_type": "stream",
     "text": [
      "The 2024 Election Could Determine the Future of Capitalism | TIME\n"
     ]
    }
   ],
   "source": [
    "for tag in soup.find_all('title'):\n",
    "    print(tag.text)"
   ]
  },
  {
   "cell_type": "code",
   "execution_count": 86,
   "metadata": {},
   "outputs": [
    {
     "data": {
      "text/plain": [
       "['This website uses cookies to enhance user experience and to analyze performance and traffic on our website. We also share information about your use of our site with our social media, advertising and analytics partners.',\n",
       " 'Over the past 90 years, two approaches to managing capitalism emerged in succession, each dominating politics around the globe while enabling unprecedented economic progress. The first, which some refer to as the “New Deal order” and others call social democracy, was born in the Great Depression as capitalist economies struggled with mass unemployment. It avoided the totalitarian traps of both fascism and communism by using government spending through democratic policymaking to strengthen the economy. ',\n",
       " 'The second order, dubbed neoliberalism by scholars, arose in 1979 and 1980 in response to the struggles of social democracy to rein in high inflation. This order emphasized a limited role for government intervention, led by the Federal Reserve adjusting interest rates to manage inflation rather than Congress spending to boost the economy. Neoliberalism ushered in a renewed faith in free markets, less regulation, and low taxes. ',\n",
       " 'These orders made sense of capitalist economies, providing a comforting logic and a feeling of progress; both orders enabled rapid technological advances, higher standards of living across the world, and new frontiers of collective human capability. ',\n",
       " 'It seems, however, that the neoliberal order has now run its course, discredited by a broad contemporary crisis rooted in inequality. The history of the two previous economic orders indicates that the outcome of the 2024 presidential election will set the course for the next chapter of capitalism. And, depending on the result, there’s no guarantee it will be led by the U.S. ',\n",
       " 'Read More: The Coming MAGA Assault on Capitalism ',\n",
       " 'Both social democracy and neoliberalism arose when crises spurred the formation of a new political coalition that captured an enduring majority. First, Franklin D. Roosevelt’s New Deal promised to rectify the failings of laissez-faire economics. The unemployment rate when Roosevelt entered office in 1933 was near 25%, and he promised that a bevy of new programs, ranging from the Works Progress Administration to Social Security, would fix the problem. ',\n",
       " 'What made the New Deal an “order” — not just Roosevelt’s economic program — was that when Republicans finally regained the White House in 1952 after 20 years out of power, President Dwight Eisenhower accepted its core tenets and key programs. He determined that fiscal stimulus to manage unemployment and the safety net of Social Security were here to stay, reinforcing both the policies and the democratic process that produced them. ',\n",
       " 'Simultaneously, with American leadership in the post-war era, the principles that defined the New Deal were quickly and successfully adopted throughout western Europe. The result was unprecedented economic growth and improved living standards throughout the 1950s and 1960s. In addition to fewer recessions, Western economies saw strong productivity growth that led to higher wages, supported by strong unions and relatively higher taxes on top earners.',\n",
       " 'But the tools of the New Deal order ran aground in the 1970s. The oil shocks — which came as OPEC restricted supply first in 1973 and again in 1979 — exacerbated already rising inflation. Governments proved hapless at addressing the resulting stagflation, a stagnant economy alongside skyrocketing inflation. Everything from price controls to rationing gasoline to government spending failed. Persistent inflation made household planning difficult, undermined investment, and sapped confidence in the system. ',\n",
       " 'That created an opening for the next order to emerge. Conservatives Ronald Reagan (in the U.S.) and Margaret Thatcher (in the U.K) won elections with a new economic vision — one that emphasized free markets, free trade, and small government. Reagan benefited immensely from some tough medicine administered by Paul Volcker, the Chairman of the Federal Reserve appointed by Jimmy Carter. Volcker used sky-high interest rates to wring inflation from the economy. This produced a recession, but it also broke the expectation that inflation would remain high. Growth resumed by 1982, and Reagan scored a smashing reelection in 1984 that vindicated the neoliberal vision. ',\n",
       " 'Now it was Democrats who had to adjust to a new order, and in a parallel to Eisenhower’s acceptance of social democracy in the 1950s, Bill Clinton ran as a centrist Democrat and embraced neoliberalism in the 1990s. His success, marked by NAFTA, welfare reform, financial deregulation, and a balanced federal budget, solidified the neoliberal order. ',\n",
       " 'The strong growth and optimism of the 1990s was only partially pierced when the dot-com bubble burst, producing a recession in 2000. The recession was mild and short, and by the mid-2000s economists were labeling the past 25 years “the Great Moderation.” Many naively believed that neoliberalism was the final evolution of capitalism.',\n",
       " 'But problems were bubbling below the surface. Capitalism only works when people see the inequality that results from market competition as fair. Everyone should believe that they too could be rich if they worked harder or longer or smarter. Indeed, throughout the neoliberal era, economists warned against combating inequality out of fear that the cultural power of meritocracy might be upended.\\xa0',\n",
       " 'But they didn’t grasp that exploding inequality itself could destroy faith in the system. In 1965, a typical CEO earned 20 times as much as the average worker, but by 2021 that ratio had climbed to 400 to one. The neoliberal emphasis on low taxes — the top marginal tax rate in the U.S. declined from 70% to 37% — and reduced government regulation empowered elites and undermined workers. As unions’ power waned, real wages stagnated even as productivity grew. The wealthy put their gains in elaborate financial instruments like mortgage-backed securities, which fueled a bubble rather than increasing productivity that would benefit all Americans.  ',\n",
       " 'In the early 2000s, middle class families in the U.S. saw gains in wealth — but not through higher paychecks. Instead, their home values soared. Many responded by cashing in on home equity through additional loans. But when the housing bubble crashed and produced the worst financial crisis since the Great Depression, people understandably lost faith in the businesspeople and Wall Street financiers whose supposed innovation had caused a major crisis.',\n",
       " 'Through the slow recovery after 2008 — itself a result of neoliberal Democrats’ reluctance to provide enough stimulus — the impacts of inequality became clearer and more dire. Working class wages continued to stagnate, an opioid epidemic ravaged parts of the country (enabled by lax regulation and profit-seeking pharmaceutical companies), and suicide rates spiked. The resulting “deaths of despair” led to the most shocking result — a decline in life expectancy concentrated among whites without a college education — the very base of the original neoliberal coalition.',\n",
       " \"Read More: Our Ancestors Thought We'd Build an Economic Paradise. Instead We Got 2022\",\n",
       " 'That created the seething anger that produced Donald Trump’s stunning victory in 2016. Ironically, the candidate elected in large part due to anger rooted in inequality had only one major legislative achievement: a tax cut that resulted in the very richest individuals paying the lowest overall tax rate, even less than those earning minimum wage.',\n",
       " 'Despite policies that exacerbated inequality, Trump is back and retains a loyal following. His appeal is a brand of nationalism that offers a sense of shared belonging and purpose — especially to those who feel left behind and excluded from the neoliberal system. Yet, this community is an exclusive one, built along racial and ethnic lines, that thrives on demonizing the opposition. Immigrants are denigrated as “animals, sub-human,” while Democrats are destroying the country. ',\n",
       " 'This rhetoric, which scapegoats rather than governs, has an appeal reminiscent of Hitler’s Germany and Vladimir Putin’s Russia. Like those fascist leaders, Trump is promising conflict — from a vast immigration crackdown to vowing retribution against his political enemies. His scorched-earth mindset refuses to accept anything the other party does as legitimate, in stark contrast to the unifying historical moves by Eisenhower and Clinton. ',\n",
       " 'Like Trump, Joe Biden has also abandoned neoliberalism, in his case the kinder, gentler version offered by Clinton and Barack Obama. He has enacted new tariffs on China, increased taxes on the wealthy, begun real investment in renewable energy, reinvigorated antitrust enforcement, and renewed support for unions. These movements all indicate the beginning of a much-needed shift into the next order; the next step is to establish an enduring political coalition. ',\n",
       " 'That leaves Americans with a stark choice. The history of places like Nazi Germany or Putin’s Russia shows that choosing race-based nationalism at best leads to weaker growth and stagnant economies. At worst, this orientation can enable conflict that will spiral into World War III.\\xa0',\n",
       " 'Biden’s vision, by contrast, shows promise to address capitalism’s contemporary crisis, just as Roosevelt’s New Deal and Reagan’s neoliberalism addressed the crises of their moments. And U.S. leadership remains vital. Americans led the past two orders because the economic principles they embraced worked to address crises within democratic systems, with solutions eventually embraced by both political parties. Americans have a choice now to do so again, moving toward the next order that will rein in inequality and capture the dynamism of capitalism to address contemporary challenges. The alternative is conflict, chaos, and instability that will slow progress for humanity and accelerate America’s decline, transforming China and India into the foremost economics in the world. ',\n",
       " 'Alan Green is professor of economics at Stetson University. He is writing a book on the history of capitalism. ',\n",
       " 'Made by History takes readers beyond the headlines with articles written and edited by professional historians. Learn more about Made by History at TIME here. Opinions expressed do not necessarily reflect the views of TIME editors.',\n",
       " 'Write to Alan Green / Made by History at madebyhistory@time.com']"
      ]
     },
     "execution_count": 86,
     "metadata": {},
     "output_type": "execute_result"
    }
   ],
   "source": [
    "text_data"
   ]
  },
  {
   "cell_type": "code",
   "execution_count": 83,
   "metadata": {},
   "outputs": [],
   "source": [
    "driver.close()"
   ]
  },
  {
   "cell_type": "code",
   "execution_count": null,
   "metadata": {},
   "outputs": [],
   "source": []
  }
 ],
 "metadata": {
  "kernelspec": {
   "display_name": "Python 3",
   "language": "python",
   "name": "python3"
  },
  "language_info": {
   "codemirror_mode": {
    "name": "ipython",
    "version": 3
   },
   "file_extension": ".py",
   "mimetype": "text/x-python",
   "name": "python",
   "nbconvert_exporter": "python",
   "pygments_lexer": "ipython3",
   "version": "3.11.9"
  }
 },
 "nbformat": 4,
 "nbformat_minor": 2
}
