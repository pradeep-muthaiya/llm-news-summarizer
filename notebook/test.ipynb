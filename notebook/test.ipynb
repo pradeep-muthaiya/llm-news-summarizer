{
 "cells": [
  {
   "cell_type": "markdown",
   "metadata": {},
   "source": [
    "# Notebook for Testing Purposes"
   ]
  },
  {
   "cell_type": "markdown",
   "metadata": {},
   "source": [
    "### Testing News API\n",
    "\n",
    "url: https://newsdata.io/api/1/latest\n",
    "<br>\n",
    "api docs: https://newsdata.io/documentation/#latest-news"
   ]
  },
  {
   "cell_type": "code",
   "execution_count": 2,
   "metadata": {},
   "outputs": [],
   "source": [
    "import json\n",
    "\n",
    "def read_secrets(secrets_file):\n",
    "    with open(secrets_file, \"r\") as file:\n",
    "        data = file.read()\n",
    "        return json.loads(data)"
   ]
  },
  {
   "cell_type": "code",
   "execution_count": 15,
   "metadata": {},
   "outputs": [
    {
     "data": {
      "text/plain": [
       "<Response [200]>"
      ]
     },
     "execution_count": 15,
     "metadata": {},
     "output_type": "execute_result"
    }
   ],
   "source": [
    "import requests\n",
    "\n",
    "data = read_secrets(\"secrets.json\")\n",
    "url = f\"https://newsdata.io/api/1/latest?apikey={data['newsdata.io']}&language=en&q=Palestine\"\n",
    "response = requests.get(url)\n",
    "response.json()['results'][0]"
   ]
  },
  {
   "cell_type": "code",
   "execution_count": 30,
   "metadata": {},
   "outputs": [
    {
     "data": {
      "text/plain": [
       "{'article_id': '9544d5562f924a80e13b22cf31c6f054',\n",
       " 'title': 'Labor senator crosses floor to support Palestine statehood',\n",
       " 'link': 'https://www.bluemountainsgazette.com.au/story/8675053/fatima-payman-crosses-floor-on-palestine-recognition-vote/?src=rss',\n",
       " 'keywords': None,\n",
       " 'creator': ['Miriam Webber'],\n",
       " 'video_url': None,\n",
       " 'description': 'Senator says she made the decision in the chamber.',\n",
       " 'content': 'ONLY AVAILABLE IN PAID PLANS',\n",
       " 'pubDate': '2024-06-25 07:56:00',\n",
       " 'image_url': 'https://www.bluemountainsgazette.com.au/images/transform/v1/crop/frm/143258707/cce4e2db-4214-460b-a3eb-adfbb42a0782.jpg/r0_336_5000_3153_w600_h338_fmax.jpg',\n",
       " 'source_id': 'bluemountainsgazette',\n",
       " 'source_priority': 899530,\n",
       " 'source_url': 'https://www.bluemountainsgazette.com.au',\n",
       " 'source_icon': 'https://i.bytvi.com/domain_icons/bluemountainsgazette.png',\n",
       " 'language': 'english',\n",
       " 'country': ['australia'],\n",
       " 'category': ['top'],\n",
       " 'ai_tag': 'ONLY AVAILABLE IN PROFESSIONAL AND CORPORATE PLANS',\n",
       " 'sentiment': 'ONLY AVAILABLE IN PROFESSIONAL AND CORPORATE PLANS',\n",
       " 'sentiment_stats': 'ONLY AVAILABLE IN PROFESSIONAL AND CORPORATE PLANS',\n",
       " 'ai_region': 'ONLY AVAILABLE IN CORPORATE PLANS',\n",
       " 'ai_org': 'ONLY AVAILABLE IN CORPORATE PLANS'}"
      ]
     },
     "execution_count": 30,
     "metadata": {},
     "output_type": "execute_result"
    }
   ],
   "source": [
    "data = read_secrets(\"secrets.json\")\n",
    "url = f\"https://newsdata.io/api/1/latest?apikey={data['newsdata.io']}&language=en&q=Palestine\"\n",
    "response = requests.get(url)\n",
    "response.json()['results'][0]"
   ]
  },
  {
   "cell_type": "code",
   "execution_count": 1,
   "metadata": {},
   "outputs": [
    {
     "ename": "NameError",
     "evalue": "name 'data' is not defined",
     "output_type": "error",
     "traceback": [
      "\u001b[0;31m---------------------------------------------------------------------------\u001b[0m",
      "\u001b[0;31mNameError\u001b[0m                                 Traceback (most recent call last)",
      "Cell \u001b[0;32mIn[1], line 3\u001b[0m\n\u001b[1;32m      1\u001b[0m \u001b[38;5;28;01mimport\u001b[39;00m \u001b[38;5;21;01murllib\u001b[39;00m\n\u001b[1;32m      2\u001b[0m params \u001b[38;5;241m=\u001b[39m urllib\u001b[38;5;241m.\u001b[39mparse\u001b[38;5;241m.\u001b[39murlencode({\n\u001b[0;32m----> 3\u001b[0m     \u001b[38;5;124m'\u001b[39m\u001b[38;5;124mapi_token\u001b[39m\u001b[38;5;124m'\u001b[39m: \u001b[43mdata\u001b[49m[\u001b[38;5;124m'\u001b[39m\u001b[38;5;124mthenewsapi.com\u001b[39m\u001b[38;5;124m'\u001b[39m],\n\u001b[1;32m      4\u001b[0m     \u001b[38;5;124m'\u001b[39m\u001b[38;5;124mcategories\u001b[39m\u001b[38;5;124m'\u001b[39m: \u001b[38;5;124m'\u001b[39m\u001b[38;5;124mbusiness,tech\u001b[39m\u001b[38;5;124m'\u001b[39m,\n\u001b[1;32m      5\u001b[0m     \u001b[38;5;124m'\u001b[39m\u001b[38;5;124mlanguage\u001b[39m\u001b[38;5;124m'\u001b[39m: \u001b[38;5;124m'\u001b[39m\u001b[38;5;124men\u001b[39m\u001b[38;5;124m'\u001b[39m,\n\u001b[1;32m      6\u001b[0m     \u001b[38;5;124m'\u001b[39m\u001b[38;5;124mlocale\u001b[39m\u001b[38;5;124m'\u001b[39m: \u001b[38;5;124m'\u001b[39m\u001b[38;5;124mus\u001b[39m\u001b[38;5;124m'\u001b[39m\n\u001b[1;32m      7\u001b[0m     })\n\u001b[1;32m      8\u001b[0m url \u001b[38;5;241m=\u001b[39m \u001b[38;5;124m\"\u001b[39m\u001b[38;5;124mhttps://api.thenewsapi.com/v1/news/top?\u001b[39m\u001b[38;5;132;01m{}\u001b[39;00m\u001b[38;5;124m\"\u001b[39m\u001b[38;5;241m.\u001b[39mformat(params)\n\u001b[1;32m      9\u001b[0m resp \u001b[38;5;241m=\u001b[39m requests\u001b[38;5;241m.\u001b[39mget(url)\n",
      "\u001b[0;31mNameError\u001b[0m: name 'data' is not defined"
     ]
    }
   ],
   "source": [
    "import urllib\n",
    "params = urllib.parse.urlencode({\n",
    "    'api_token': data['thenewsapi.com'],\n",
    "    'categories': 'business,tech',\n",
    "    'language': 'en',\n",
    "    'locale': 'us'\n",
    "    })\n",
    "url = \"https://api.thenewsapi.com/v1/news/top?{}\".format(params)\n",
    "resp = requests.get(url)"
   ]
  },
  {
   "cell_type": "code",
   "execution_count": 41,
   "metadata": {},
   "outputs": [
    {
     "data": {
      "text/plain": [
       "{'meta': {'found': 242441, 'returned': 3, 'limit': 3, 'page': 1},\n",
       " 'data': [{'uuid': 'a392b09a-9137-4f62-9e14-1b83533cedec',\n",
       "   'title': \"We're not ready to echo Goldman's call to buy Disney — here's why\",\n",
       "   'description': 'Goldman Sachs offers plenty of reasons to like Disney in the years ahead. But Jim Cramer expects the near-term road to remain choppy for the stock.',\n",
       "   'keywords': 'Breaking News: Business, Jim Cramer, stock takes, Investment strategy, Markets, Breaking News: Markets, Walt Disney Co, Fox Corp. Class A, Comcast Corp, Netflix Inc, Media, business news',\n",
       "   'snippet': \"Disney picked up an endorsement from a top Wall Street firm — but Jim Cramer said the analysts' reasons to buy are not enough to drive the stock higher. Goldm...\",\n",
       "   'url': 'https://www.cnbc.com/2024/06/25/were-not-ready-to-echo-goldmans-call-to-buy-disney-heres-why-.html',\n",
       "   'image_url': 'https://image.cnbcfm.com/api/v1/image/107368218-1706880038262-gettyimages-1978616072-jr024368_t0xr.jpeg?v=1719335298&w=1920&h=1080',\n",
       "   'language': 'en',\n",
       "   'published_at': '2024-06-25T19:35:53.000000Z',\n",
       "   'source': 'cnbc.com',\n",
       "   'categories': ['general', 'business'],\n",
       "   'relevance_score': None,\n",
       "   'locale': 'us'},\n",
       "  {'uuid': '8dea93b9-52bb-4eaf-b972-1d5d3349e079',\n",
       "   'title': 'Reasons to Add Evergy Shares to Your Portfolio Now - Evergy (NASDAQ:EVRG), Consolidated Edison (NYSE:ED)',\n",
       "   'description': \"Evergy's (NASDAQ: EVRG) systematic investments to strengthen its infrastructure will assist it in improving service reliability. EVRG continues to benefit from ...\",\n",
       "   'keywords': '',\n",
       "   'snippet': \"Loading... Loading...\\n\\nEvergy's EVRG systematic investments to strengthen its infrastructure will assist it in improving service reliability. EVRG continues to ...\",\n",
       "   'url': 'https://www.benzinga.com/news/earnings/24/06/39481108/reasons-to-add-evergy-shares-to-your-portfolio-now',\n",
       "   'image_url': 'https://cdn.benzinga.com/files/images/story/2024/06/25/mathieu-stern-1zo4o3z0uja-unsplash_0.jpg?width=1200&height=800&fit=crop',\n",
       "   'language': 'en',\n",
       "   'published_at': '2024-06-25T19:33:11.000000Z',\n",
       "   'source': 'benzinga.com',\n",
       "   'categories': ['business'],\n",
       "   'relevance_score': None,\n",
       "   'locale': 'us'},\n",
       "  {'uuid': '1213dd74-245f-4922-983f-7d2e2bdf89ca',\n",
       "   'title': 'Large Banks to be Conservative About Shareholder Payouts - Citigroup (NYSE:C), Bank of America (NYSE:BAC)',\n",
       "   'description': \"The Federal Reserve is slated to announce its annual bank health check results on Jun 26. Also known as the ‘stress test' the results will show how much capit...\",\n",
       "   'keywords': '',\n",
       "   'snippet': \"Loading... Loading...\\n\\nThe Federal Reserve is slated to announce its annual bank health check results on Jun 26. Also known as the ‘stress test' the results w...\",\n",
       "   'url': 'https://www.benzinga.com/news/24/06/39481120/large-banks-to-be-conservative-about-shareholder-payouts',\n",
       "   'image_url': 'https://cdn.benzinga.com/files/images/story/2024/06/25/alexander-mils-lcphgxs7pww-unsplash_0.jpg?width=1200&height=800&fit=crop',\n",
       "   'language': 'en',\n",
       "   'published_at': '2024-06-25T19:32:38.000000Z',\n",
       "   'source': 'benzinga.com',\n",
       "   'categories': ['business'],\n",
       "   'relevance_score': None,\n",
       "   'locale': 'us'}]}"
      ]
     },
     "execution_count": 41,
     "metadata": {},
     "output_type": "execute_result"
    }
   ],
   "source": [
    "resp.json()"
   ]
  },
  {
   "cell_type": "code",
   "execution_count": 9,
   "metadata": {},
   "outputs": [
    {
     "name": "stdout",
     "output_type": "stream",
     "text": [
      "Reading now:  https://news.google.com/rss/search?q=\"economics\"\n"
     ]
    }
   ],
   "source": [
    "import time\n",
    "import re\n",
    "import bs4\n",
    "import urllib\n",
    "import urllib.request as ur\n",
    "import feedparser\n",
    "# Get Alexa Rank - remember it only works from USA so you need a proxy\n",
    "def getMetrics(url):\n",
    "    cleanDomain = '/'.join(url.split('/')[:3])\n",
    "    try:\n",
    "        alexa_rank = bs4.BeautifulSoup(ur.urlopen(\"http://data.alexa.com/data?cli=10&dat=s&url=\"+ url), \"xml\").find(\"REACH\")[\"RANK\"]\n",
    "    except:\n",
    "        alexa_rank = None\n",
    "    return alexa_rank\n",
    " \n",
    "# HTML cleanup function\n",
    "def cleanhtml(raw_html):\n",
    "  cleanr = re.compile('<.*?>')\n",
    "  cleantext = re.sub(cleanr, '', raw_html)\n",
    "  return cleantext\n",
    "\n",
    "# Access the feed and store data in d\n",
    "def readFeed(url,query):\n",
    "\n",
    "    feed = feedparser.parse(url)\n",
    "\n",
    "    # Loop items in the feed\n",
    "    d = []\n",
    "\n",
    "    for post in feed.entries:\n",
    "        title = post.title\n",
    "        link = post.link\n",
    "        # Converting published date to aaaa/mm/dd\n",
    "        pubDate = \"%d/%02d/%02d\" % (post.published_parsed.tm_year,\\\n",
    "            post.published_parsed.tm_mon, \\\n",
    "            post.published_parsed.tm_mday)\n",
    "\n",
    "        description = cleanhtml(post.summary)\n",
    "        source = post.source.title\n",
    "        # Get Alexa Rank\n",
    "        alexa_rank = getMetrics(link)\n",
    "        d.append((title, link, pubDate, description, source, query, alexa_rank))\n",
    "        #print(d)\n",
    "    \n",
    "    # Add delay between calls\n",
    "    time.sleep(2)\n",
    "    return d\n",
    "\n",
    "query = \"economics\"\n",
    "# URL encode the query and add quotes around it\n",
    "encoded_query = '\"' + urllib.parse.quote_plus(query) + '\"'        \n",
    "# Compose the URL    \n",
    "\n",
    "# Feed URL\n",
    "base_url = 'https://news.google.com/rss/search?q='\n",
    "\n",
    "url = base_url + encoded_query\n",
    "print(\"Reading now: \",url)\n",
    "# Read the Feed\n",
    "data = readFeed(url, query)"
   ]
  },
  {
   "cell_type": "code",
   "execution_count": 6,
   "metadata": {},
   "outputs": [],
   "source": [
    "#reference I followed: https://towardsdatascience.com/how-to-use-selenium-to-web-scrape-with-example-80f9b23a843a\n",
    "# \n",
    "from selenium import webdriver\n",
    "from selenium.webdriver.common.keys import Keys\n",
    "import pandas as pd\n",
    "#driver = webdriver.Chrome('/Users/mmuthaiya/Downloads/chromedriver-mac-x64/chromedriver')"
   ]
  },
  {
   "cell_type": "code",
   "execution_count": 12,
   "metadata": {},
   "outputs": [],
   "source": [
    "#url = \"https://news.google.com/rss/articles/CBMiYmh0dHBzOi8vd3d3LnBvbGl0aWZhY3QuY29tL2FydGljbGUvMjAyNC9qdW4vMjUvY29tcGFyaW5nLWVjb25vbWljLXBlcmZvcm1hbmNlLWZvci1ibGFjay1hbWVyaWNhbnMv0gEA?oc=5\"\n",
    "driver = webdriver.Chrome()\n",
    "# url = data[5][1]\n",
    "driver.get(url)"
   ]
  },
  {
   "cell_type": "code",
   "execution_count": 30,
   "metadata": {},
   "outputs": [
    {
     "name": "stdout",
     "output_type": "stream",
     "text": [
      "Marketplace\n",
      "Sign up for the Marketplace newsletter to get the day’s biggest business stories, our economic analysis, and explainers to help you live smarter, straight to your inbox every weekday evening.\n",
      "Economists do not like talking about feelings. They didn’t sign up for feelings. Economists like talking about data, and the data looks strong: Unemployment is near record lows, GDP is growing, inflation is edging down, and wages are up. So why are our consumer confidence and consumer sentiment numbers so low? \n",
      "Martha Gimbel heads the Yale Budget Lab. She said being an economist right now is a little like being a doctor talking to a totally healthy patient, who keeps insisting they’re sick. \n",
      "“You’re saying like, ‘Your EKG is fine. Your blood work looks fine,'” said Gimbel. “The problem is that the patient keeps saying, ‘No, I’m not fine! I’m really not fine. I don’t feel good.'”\n",
      "Take the job market: Right now, according to surveys from the University of Michigan, people are really worried about losing their jobs — a lot more than they were before the pandemic. But according to the data, layoffs are at the lowest level they’ve been since the government started tracking those numbers in 2000. \n",
      "“You are incredibly unlikely to be laid off right now,” Gimbel insisted. So why don’t people feel that way?\n",
      "Julia Pollak is a labor economist with ZipRecruiter. She had a few ideas of what might be going on with this data-vibe disconnect. All of the reasons had to do with our feelings, and, in true economist fashion, Pollak offered some very official-sounding technical terms for each of these concepts:\n",
      "You might be thinking, “The job market is strong? It doesn’t feel strong! I’ve been reading about a bunch of layoffs for months!”\n",
      "Pollak said the key here is salience bias. There have been layoffs in the last six months, and those layoffs have happened in companies and industries the media covers a lot, like media and tech.  \n",
      "“The layoffs have grabbed headlines,” said Pollak. “That’s had an outsized effect on how we see the economy.”\n",
      "In other words, those layoffs feel a lot more salient to us than the hiring boom that’s been happening in health care, even though health care is a much bigger part of our economy. \n",
      "We feel losses deeply and they stay with us. \n",
      "“This is called loss aversion,” explained Pollak. “It’s the tendency for the pain of losing to be psychologically about twice as powerful as the pleasure of gaining.”\n",
      "If you lost a job in 2020, even if you eventually got a better job, the pain of the lost job looms larger. The bad times haunt us.\n",
      "Even if you’re better off today, overall, than you were before the pandemic, you will tend to measure your life against one glorious reference point: That month back in 2021 when you got two job offers in a week, your credit card balance was zero, and that dancing panda NFT you bought was worth $50,000 dollars. \n",
      "“ And that reference point is making it very difficult for people to feel happy now,” explained Pollak.\n",
      "In a lot of ways, it seems like we are determined to feel terrible about the economy. So in the midst of so much positive data, should economists even pay attention to our feelings? \n",
      "“Oh, economists do worry when consumer confidence falls,” said Pollak. “They worry that it will have real effects.”\n",
      "Real effects like people stop buying stuff. \n",
      "“And then, as a result, businesses will suffer and lay off workers and that will set off a negative cycle,” Pollak said.\n",
      "Consumer spending is about two-thirds of our economy: If people stop buying stuff, our vibecession will become a real recession, real fast. \n",
      "Still, in a lot of ways, we come by our economic pessimism honestly, said economist Martha Gimbel. That’s because economic data is very different than lived experience.\n",
      "“As an economist, when I think about inflation, I think: ‘Look, inflation’s coming down from its peak, there are all of these positive signs,'” said Gimbel. “A normal person goes to the grocery store and says, ‘Hey, I’m paying X for milk and I was paying much less than X two years ago.’ And it makes them feel really bad about the economy.  And both the economists and the normal people are correct.”\n",
      "But even by the lived experience measure, we should probably be happier: Our wages have risen faster than prices. Our pay has, on average, kept pace with groceries. So, why does our cost-of-milk-misery outweigh the pleasure of a plumper paycheck?  \n",
      "“Economists always emphasize people’s utility functions,” explained Gimbel. “How people value different inputs are their utility functions.”\n",
      "In other words, people are going to feel their feelings. Certain things are going to resonate more than others and it’s not always going to have a lot to do with logic. \n",
      "For instance, our vibecession might not be entirely logical. Gimbel speculated a lot of these feelings might be about, not what’s happening now, but because of the traumas we went through during the pandemic.\n",
      "“If you were talking about one of your friends who had had a really traumatic experience, you wouldn’t be saying to people, ‘Man, Mary just can’t get over what happened three years ago. Like, why is she so upset?'”\n",
      "Of course not! You’d understand that Mary was probably all up in her utility functions because her salience bias probably had her in a loss aversion spiral. And if you would just give Mary some time, her reference dependence would eventually shift and she would feel better. \n",
      "Hopefully, given some time, we will all start feeling better, so we can get back to good vibes and economists can get back to talking about data. \n",
      "There’s a lot happening in the world.  Through it all, Marketplace is here for you. \n",
      "You rely on Marketplace to break down the world’s events and tell you how it affects you in a fact-based, approachable way. We rely on your financial support to keep making that possible. \n",
      "Your donation today powers the independent journalism that you rely on. For just $5/month, you can help sustain Marketplace so we can keep reporting on the things that matter to you.  \n",
      "Fiscal Year Deadline\n",
      "We need your help to reach an important fundraising goal!\n"
     ]
    }
   ],
   "source": [
    "from selenium.webdriver.common.by import By\n",
    "vals = driver.find_elements(By.TAG_NAME, \"p\")\n",
    "for i in vals:\n",
    "    print(i.text)"
   ]
  },
  {
   "cell_type": "code",
   "execution_count": 13,
   "metadata": {},
   "outputs": [
    {
     "data": {
      "text/plain": [
       "['\\n(Shutterstock)\\n',\n",
       " 'As they face off in this year’s election, both President Joe Biden and former President Donald Trump have aggressively courted Black Americans’ votes.\\xa0',\n",
       " 'Historically, Black voters have overwhelmingly backed Democrats, but polling so far this year shows some openness among Black voters, especially Black men, to support Trump. In May, the Pew Research Center reported that, at least this early in the presidential race, Biden has a 77%-18% edge over Trump among Black voters, which is lower than it was for Biden in 2020 (92%-8%) or for fellow Democrat Hillary Clinton in 2016 (91%-6%).',\n",
       " 'Both Trump and Biden have made pitches about Black economic success on their watches, sometimes with mixed levels of accuracy.',\n",
       " 'Trump said his administration \"achieved the lowest African American unemployment rate and the lowest African American poverty rate ever recorded.\" Both metrics did reach record lows under Trump, but then went on to surpass those record lows under Biden. So we rated this Trump claim Half True.',\n",
       " 'Biden got a Half True rating for saying, \"The racial wealth gap is the smallest it’s been in 20 years.\" Economists use two measures to assess the racial wealth gap, and Biden’s statement covered only one of them.\\xa0',\n",
       " 'With 2024’s first presidential debate set for June 27 in Atlanta, a region with a large and politically pivotal Black population, race and the economy could be discussed. So, we absorbed a wide array of economic statistics about how Black Americans have fared under Trump and Biden and present them here.',\n",
       " 'Although the coronavirus pandemic skewed some economic statistics, we generally found that Black Americans fared well by historical standards during Donald Trump’s presidency. Still, they have fared even better under President Joe Biden.',\n",
       " '\"Setting aside the severe shock caused by the Covid pandemic, the absolute and relative economic status of African Americans improved under both presidents,\" said Gary Burtless, an economist with the Brookings Institution, a Washington, D.C. think tank. \"Nonetheless, looking closely at most of the economic indicators, I think we’d have to give the nod to economic progress achieved during the Biden years. The latest numbers suggest that the relative wage gains of workers in the lower ranks of the earnings distribution, including African Americans, have persisted up through the present.\"',\n",
       " 'Particularly for such metrics as inflation-adjusted household income, business startups and health insurance coverage, \"Black Americans fared better under Biden relative to Trump,\" said Gregory N. Price, an economics professor at the University of New Orleans.',\n",
       " 'However, persistent gaps separating whites and Blacks remain, and by most metrics, neither Trump nor Biden has closed them significantly.\\xa0\\xa0',\n",
       " 'A reminder: No president is all-powerful in shaping economic outcomes. This applies equally to both Trump and Biden.',\n",
       " 'Here’s our rundown of several key economic metrics.',\n",
       " 'The unemployment rate',\n",
       " 'Setting aside the coronavirus pandemic’s swift, severe disruptions, both Trump and Biden had relatively low Black unemployment rates during their presidencies. But the rates under Biden have been lower.\\xa0',\n",
       " 'Not only did this metric return to 6.5%, its approximate prepandemic level, under Biden in November 2021, but it went on to hit a record low 4.8% in April 2023. Not counting the peak pandemic period of April 2020 to October 2021, Black unemployment has averaged 5.86% under Biden, which is lower than the 6.65% level under Trump.',\n",
       " 'How quickly Black unemployment has improved has been impressive, said Tara Sinclair, a George Washington University economist who recently completed a stint as deputy assistant secretary for macroeconomics in the Treasury Department’s Office of Economic Policy.\\xa0',\n",
       " 'The Black unemployment rate peaked at similar levels in 2010, during the Great Recession, and in 2020, during the pandemic recession. But after the Great Recession, it took more than nine years to get the rate sustainably below 6.5%, compared with less than two years after the pandemic recession peak.',\n",
       " 'The gap in unemployment rate between Black Americans and white Americans persists. Once again excluding the peak pandemic period of April 2020 to October 2021, the average difference between Black and white unemployment rates was 3.16 percentage points under Trump and 3.29 percentage points under Biden.',\n",
       " 'Labor force participation rate',\n",
       " 'The labor force participation rate measures what share of the population is employed or looking for work. A higher rate is economically desirable, because more workers produce more goods or services and can spend the money they earn elsewhere in the economy.',\n",
       " 'For Black Americans, labor force participation hovered between 62% and 63% before the pandemic under Trump. After returning to nearly 62% under Biden in January 2022, the metric has continued to rise. Since September 2023, it has risen as high as 63.7% in two months and hasn’t fallen below 62.9%.\\xa0',\n",
       " 'Black labor force participation was hit harder during the pandemic than white labor force participation. But by early February 2022, Black labor force participation caught up with white labor force participation and has kept rising. Today, it stands 0.7 percentage points higher than for whites.',\n",
       " '',\n",
       " 'This is historically unusual, Sinclair said. From the mid-1970s to 2021, the white labor force participation rate almost always exceeded the Black labor force participation rate. For most of Biden’s tenure, the opposite has been true.',\n",
       " 'Wages and income',\n",
       " 'The single biggest challenge economically for Biden has been inflation, which hit 40-year highs of about 9% in summer 2022 before falling to around 3% within a year.',\n",
       " 'Despite this, wage growth has been healthy for Black Americans — and more so under Biden than under Trump.',\n",
       " 'After adjusting for inflation, weekly earnings for full-time Black workers under Trump averaged $280.80 before the pandemic. Despite higher inflation, take-home pay for Black workers starting in 2022’s first quarter has averaged $299.90, a level almost 7% higher under Biden.',\n",
       " 'Black earnings have continued to trail white earnings by fairly consistent margins.',\n",
       " '',\n",
       " 'Another metric, inflation-adjusted household income, shows a similar story. Black household incomes rose under Trump but have continued rising — slightly — under Biden.',\n",
       " '',\n",
       " 'Neither Trump nor Biden presided over any significant narrowing of the five-decade household income gap between Black and white households.',\n",
       " '',\n",
       " 'Poverty',\n",
       " 'Poverty data is released only once a year, and the last year available is 2022. That data shows the Black poverty rate has been lower under Biden than it was under Trump.',\n",
       " 'The lowest annual rate under Trump came in 2019, when it was 18.8%. Under Biden, it fell to 17.1% in 2022.',\n",
       " '',\n",
       " 'Black-owned businesses',\n",
       " 'The number of Black-owned businesses began rising under Trump, but it has kept rising under Biden, according to Census Bureau data.\\xa0',\n",
       " '',\n",
       " 'Another metric, the Federal Reserve’s Survey of Consumer Finances, conducted every three years, tracks with what the Census Bureau found. The 2022 Fed survey, the first conducted since 2019, found that 11% of Black households held equity in a business, far higher than the previous record of 6.6% in 2016 and the 4.8% recorded in 2019.',\n",
       " 'And a study by the liberal Center for Economic and Policy Research found that the share of Black workers who are self-employed increased by 50% from 2019 to 2023.',\n",
       " 'Homeownership',\n",
       " 'Excluding the pandemic, Black homeownership rates averaged 42.2% under Trump and 45.4% under Biden.\\xa0',\n",
       " 'Still, Black Americans continue to have the lowest rates of homeownership among U.S. ethnic groups, with little progress made under either president. We rated Sen. Tim Scott, R-S.C., True when he said that \"For African American families in particular, the homeownership rate remains relatively unchanged since 1968, the year the Fair Housing Act was signed into law.\"',\n",
       " '',\n",
       " 'Health insurance coverage',\n",
       " 'After Democratic-led passage of the Affordable Care Act, which included health insurance marketplaces and federal premium subsidies, the share of Black Americans without health insurance declined in 2014 and continued to fall through 2016, Barack Obama’s last year in office.',\n",
       " 'Under Trump’s first three years in office, the Black uninsured rate rose again. (Data for the pandemic year of 2020 is unavailable.) But once Biden took office, the Black uninsured rate began falling again, hitting a record low in 2022 of 10%.',\n",
       " '',\n",
       " 'The gap in uninsurance between Black and white Americans has narrowed under Biden. At the Trump’s presidency’s onset, the gap was 3.8 percentage points. In 2022 under Biden, it was 3.4 percentage points.',\n",
       " '',\n",
       " 'Pew Research Center, \"An Early Look at Black Voters’ Views on Biden, Trump and Election 2024,\" May 20, 2024\\xa0',\n",
       " 'Pew Research Center, \"Behind Biden’s 2020 Victory,\" June 30, 2021',\n",
       " 'KFF, \"KFF Health Tracking Poll: Health Care Issues Emerge as Important Topics on 2024 Campaign Trail, Plus Concerns Loom Large Around Medicaid Unwinding,\" Dec. 1, 2023',\n",
       " 'Federal Reserve Bank of St. Louis, \"Unemployment Rate - Black or African American,\" accessed June 24, 2024',\n",
       " 'Federal Reserve Bank of St. Louis, \"Unemployment Rate - White,\" accessed June 24, 2024',\n",
       " 'Federal Reserve Bank of St. Louis, \"Unemployment Rate - Hispanic or Latino,\" accessed June 24, 2024',\n",
       " 'Federal Reserve Bank of St. Louis, \"Unemployment Rate - Asian,\" accessed June 24, 2024',\n",
       " 'Federal Reserve Bank of St. Louis, \"Labor Force Participation Rate - Black or African American,\" accessed June 24, 2024',\n",
       " 'Federal Reserve Bank of St. Louis, \"Labor Force Participation Rate - White,\" accessed June 24, 2024',\n",
       " 'Federal Reserve Bank of St. Louis, \"Labor Force Participation Rate - Hispanic or Latino,\" accessed June 24, 2024',\n",
       " 'Federal Reserve Bank of St. Louis, \"Labor Force Participation Rate - Asian,\" accessed June 24, 2024',\n",
       " 'Federal Reserve Bank of St. Louis, \"Employed full time: Median usual weekly real earnings: Wage and salary workers: 16 years and over: Black or African American,\" accessed June 24, 2024',\n",
       " 'Federal Reserve Bank of St. Louis, \"Employed full time: Median usual weekly real earnings: Wage and salary workers: 16 years and over: White,\" accessed June 24, 2024',\n",
       " 'Federal Reserve Bank of St. Louis, \"Employed full time: Median usual weekly real earnings: Wage and salary workers: 16 years and over: Hispanic or Latino,\" accessed June 24, 2024',\n",
       " 'Federal Reserve Bank of St. Louis, \"Employed full time: Median usual weekly real earnings: Wage and salary workers: 16 years and over: Asian,\" accessed June 24, 2024',\n",
       " 'Census Bureau, \"Table A-2. Households by Total Money Income, Race, and Hispanic Origin of Householder: 1967 to 2022,\" accessed June 24, 2024',\n",
       " 'Census Bureau, \"Table 2. Poverty Status of People by Family Relationship, Race, and Hispanic Origin,\" accessed June 24, 2024',\n",
       " 'Federal Reserve Bank of St. Louis, \"Homeownership Rates by Race and Ethnicity: Black Alone in the United States,\" accessed June 24, 2024',\n",
       " 'Federal Reserve Bank of St. Louis, \"Homeownership Rates by Race and Ethnicity: Non-Hispanic White Alone in the United States,\" accessed June 24, 2024',\n",
       " 'Federal Reserve Bank of St. Louis, \"Homeownership Rates by Race and Ethnicity: Hispanic (of Any Race) in the United States,\" accessed June 24, 2024',\n",
       " 'Federal Reserve Bank of St. Louis, \"Homeownership Rates by Race and Ethnicity: All Other Races: Asian, Native Hawaiian and Pacific Islander Alone in the United States,\" accessed June 24, 2024',\n",
       " 'KFF, \"Health Coverage by Race and Ethnicity, 2010-2022,\" Jan. 11, 2024',\n",
       " 'Center for Economic and Policy Research, \"The Pandemic and Self-Employment: An Update,\" Oct. 11, 2023',\n",
       " 'Joint Economic Committee Democrats, \"The Economic Status of Black Americans National and State Level Data,\" 2022\\xa0',\n",
       " 'PolitiFact, \"What President Joe Biden got right, and what he missed, about the racial wealth gap,\" Jan. 12, 2024',\n",
       " 'PolitiFact, \"Black poverty, unemployment set record lows on Trump’s watch, and on Biden’s, too,\" June 20, 2024',\n",
       " 'PolitiFact, \"Has Black entrepreneurship hit a record during Joe Biden’s presidency?\" Feb. 15, 2024',\n",
       " 'PolitiFact, \"Sen. Tim Scott said Black homeownership has been static since 1968 housing law. He’s right,\" May 19, 2023',\n",
       " 'Email interview with Gregory N. Price, professor of economics at the University of New Orleans, June 21, 2024',\n",
       " 'Email interview with Dean Baker, co-founder of the Center for Economic and Policy Research, June 24, 2024',\n",
       " 'Email interview with Tara Sinclair, George Washington University economist, June 25, 2024',\n",
       " 'Email interview with Gary Burtless, senior fellow with the Brookings Institution, June 24, 2024',\n",
       " '\\n\\nDistrict of Columbia\\n\\n\\n\\n1800 I Street NW\\n\\nWashington, DC\\n20006\\n',\n",
       " '\\n\\nFlorida\\n\\n\\n801 3rd St. S\\n\\nSt. Petersburg, FL\\n33701\\n727-821-9494\\n']"
      ]
     },
     "execution_count": 13,
     "metadata": {},
     "output_type": "execute_result"
    }
   ],
   "source": [
    "html = driver.page_source\n",
    "\n",
    "soup = bs4.BeautifulSoup(html)\n",
    "\n",
    "text_data = []\n",
    "for tag in soup.find_all('p'):\n",
    "    text_data.append(tag.text)\n",
    "text_data"
   ]
  },
  {
   "cell_type": "code",
   "execution_count": 14,
   "metadata": {},
   "outputs": [],
   "source": [
    "driver.close()"
   ]
  },
  {
   "cell_type": "code",
   "execution_count": 15,
   "metadata": {},
   "outputs": [],
   "source": [
    "from tempfile import mkdtemp\n",
    "from selenium import webdriver\n",
    "\n",
    "options = webdriver.ChromeOptions()\n",
    "service = webdriver.ChromeService(\"/Users/mmuthaiya/Downloads/chromedriver-mac-x64/chromedriver\")\n",
    "\n",
    "#options.binary_location = '/opt/chrome/chrome'\n",
    "options.add_argument(\"--headless=new\")\n",
    "options.add_argument('--no-sandbox')\n",
    "options.add_argument(\"--disable-gpu\")\n",
    "options.add_argument(\"--window-size=1280x1696\")\n",
    "options.add_argument(\"--single-process\")\n",
    "options.add_argument(\"--disable-dev-shm-usage\")\n",
    "options.add_argument(\"--disable-dev-tools\")\n",
    "options.add_argument(\"--no-zygote\")\n",
    "options.add_argument(f\"--user-data-dir={mkdtemp()}\")\n",
    "options.add_argument(f\"--data-path={mkdtemp()}\")\n",
    "options.add_argument(f\"--disk-cache-dir={mkdtemp()}\")\n",
    "options.add_argument(\"--remote-debugging-port=9222\")\n",
    "\n",
    "chrome = webdriver.Chrome(options=options, service=service)"
   ]
  },
  {
   "cell_type": "code",
   "execution_count": 19,
   "metadata": {},
   "outputs": [
    {
     "data": {
      "text/plain": [
       "'https://news.google.com/rss/articles/CBMiZ2h0dHBzOi8vd3d3LmZveG5ld3MuY29tL3BvbGl0aWNzL3RvcC1lY29ub21pc3RzLWNsYWltLXRydW1wLWVjb25vbWljLWRpc2FzdGVyLXRoZXktc2FpZC1zYW1lLXRoaW5nLTIwMTbSAWtodHRwczovL3d3dy5mb3huZXdzLmNvbS9wb2xpdGljcy90b3AtZWNvbm9taXN0cy1jbGFpbS10cnVtcC1lY29ub21pYy1kaXNhc3Rlci10aGV5LXNhaWQtc2FtZS10aGluZy0yMDE2LmFtcA?oc=5'"
      ]
     },
     "execution_count": 19,
     "metadata": {},
     "output_type": "execute_result"
    }
   ],
   "source": [
    "data[2][1]"
   ]
  },
  {
   "cell_type": "code",
   "execution_count": 28,
   "metadata": {},
   "outputs": [],
   "source": []
  },
  {
   "cell_type": "code",
   "execution_count": 31,
   "metadata": {},
   "outputs": [
    {
     "data": {
      "text/plain": [
       "['\\n(Shutterstock)\\n',\n",
       " 'As they face off in this year’s election, both President Joe Biden and former President Donald Trump have aggressively courted Black Americans’ votes.\\xa0',\n",
       " 'Historically, Black voters have overwhelmingly backed Democrats, but polling so far this year shows some openness among Black voters, especially Black men, to support Trump. In May, the Pew Research Center reported that, at least this early in the presidential race, Biden has a 77%-18% edge over Trump among Black voters, which is lower than it was for Biden in 2020 (92%-8%) or for fellow Democrat Hillary Clinton in 2016 (91%-6%).',\n",
       " 'Both Trump and Biden have made pitches about Black economic success on their watches, sometimes with mixed levels of accuracy.',\n",
       " 'Trump said his administration \"achieved the lowest African American unemployment rate and the lowest African American poverty rate ever recorded.\" Both metrics did reach record lows under Trump, but then went on to surpass those record lows under Biden. So we rated this Trump claim Half True.',\n",
       " 'Biden got a Half True rating for saying, \"The racial wealth gap is the smallest it’s been in 20 years.\" Economists use two measures to assess the racial wealth gap, and Biden’s statement covered only one of them.\\xa0',\n",
       " 'With 2024’s first presidential debate set for June 27 in Atlanta, a region with a large and politically pivotal Black population, race and the economy could be discussed. So, we absorbed a wide array of economic statistics about how Black Americans have fared under Trump and Biden and present them here.',\n",
       " 'Although the coronavirus pandemic skewed some economic statistics, we generally found that Black Americans fared well by historical standards during Donald Trump’s presidency. Still, they have fared even better under President Joe Biden.',\n",
       " '\"Setting aside the severe shock caused by the Covid pandemic, the absolute and relative economic status of African Americans improved under both presidents,\" said Gary Burtless, an economist with the Brookings Institution, a Washington, D.C. think tank. \"Nonetheless, looking closely at most of the economic indicators, I think we’d have to give the nod to economic progress achieved during the Biden years. The latest numbers suggest that the relative wage gains of workers in the lower ranks of the earnings distribution, including African Americans, have persisted up through the present.\"',\n",
       " 'Particularly for such metrics as inflation-adjusted household income, business startups and health insurance coverage, \"Black Americans fared better under Biden relative to Trump,\" said Gregory N. Price, an economics professor at the University of New Orleans.',\n",
       " 'However, persistent gaps separating whites and Blacks remain, and by most metrics, neither Trump nor Biden has closed them significantly.\\xa0\\xa0',\n",
       " 'A reminder: No president is all-powerful in shaping economic outcomes. This applies equally to both Trump and Biden.',\n",
       " 'Here’s our rundown of several key economic metrics.',\n",
       " 'The unemployment rate',\n",
       " 'Setting aside the coronavirus pandemic’s swift, severe disruptions, both Trump and Biden had relatively low Black unemployment rates during their presidencies. But the rates under Biden have been lower.\\xa0',\n",
       " 'Not only did this metric return to 6.5%, its approximate prepandemic level, under Biden in November 2021, but it went on to hit a record low 4.8% in April 2023. Not counting the peak pandemic period of April 2020 to October 2021, Black unemployment has averaged 5.86% under Biden, which is lower than the 6.65% level under Trump.',\n",
       " 'How quickly Black unemployment has improved has been impressive, said Tara Sinclair, a George Washington University economist who recently completed a stint as deputy assistant secretary for macroeconomics in the Treasury Department’s Office of Economic Policy.\\xa0',\n",
       " 'The Black unemployment rate peaked at similar levels in 2010, during the Great Recession, and in 2020, during the pandemic recession. But after the Great Recession, it took more than nine years to get the rate sustainably below 6.5%, compared with less than two years after the pandemic recession peak.',\n",
       " 'The gap in unemployment rate between Black Americans and white Americans persists. Once again excluding the peak pandemic period of April 2020 to October 2021, the average difference between Black and white unemployment rates was 3.16 percentage points under Trump and 3.29 percentage points under Biden.',\n",
       " 'Labor force participation rate',\n",
       " 'The labor force participation rate measures what share of the population is employed or looking for work. A higher rate is economically desirable, because more workers produce more goods or services and can spend the money they earn elsewhere in the economy.',\n",
       " 'For Black Americans, labor force participation hovered between 62% and 63% before the pandemic under Trump. After returning to nearly 62% under Biden in January 2022, the metric has continued to rise. Since September 2023, it has risen as high as 63.7% in two months and hasn’t fallen below 62.9%.\\xa0',\n",
       " 'Black labor force participation was hit harder during the pandemic than white labor force participation. But by early February 2022, Black labor force participation caught up with white labor force participation and has kept rising. Today, it stands 0.7 percentage points higher than for whites.',\n",
       " '',\n",
       " 'This is historically unusual, Sinclair said. From the mid-1970s to 2021, the white labor force participation rate almost always exceeded the Black labor force participation rate. For most of Biden’s tenure, the opposite has been true.',\n",
       " 'Wages and income',\n",
       " 'The single biggest challenge economically for Biden has been inflation, which hit 40-year highs of about 9% in summer 2022 before falling to around 3% within a year.',\n",
       " 'Despite this, wage growth has been healthy for Black Americans — and more so under Biden than under Trump.',\n",
       " 'After adjusting for inflation, weekly earnings for full-time Black workers under Trump averaged $280.80 before the pandemic. Despite higher inflation, take-home pay for Black workers starting in 2022’s first quarter has averaged $299.90, a level almost 7% higher under Biden.',\n",
       " 'Black earnings have continued to trail white earnings by fairly consistent margins.',\n",
       " '',\n",
       " 'Another metric, inflation-adjusted household income, shows a similar story. Black household incomes rose under Trump but have continued rising — slightly — under Biden.',\n",
       " '',\n",
       " 'Neither Trump nor Biden presided over any significant narrowing of the five-decade household income gap between Black and white households.',\n",
       " '',\n",
       " 'Poverty',\n",
       " 'Poverty data is released only once a year, and the last year available is 2022. That data shows the Black poverty rate has been lower under Biden than it was under Trump.',\n",
       " 'The lowest annual rate under Trump came in 2019, when it was 18.8%. Under Biden, it fell to 17.1% in 2022.',\n",
       " '',\n",
       " 'Black-owned businesses',\n",
       " 'The number of Black-owned businesses began rising under Trump, but it has kept rising under Biden, according to Census Bureau data.\\xa0',\n",
       " '',\n",
       " 'Another metric, the Federal Reserve’s Survey of Consumer Finances, conducted every three years, tracks with what the Census Bureau found. The 2022 Fed survey, the first conducted since 2019, found that 11% of Black households held equity in a business, far higher than the previous record of 6.6% in 2016 and the 4.8% recorded in 2019.',\n",
       " 'And a study by the liberal Center for Economic and Policy Research found that the share of Black workers who are self-employed increased by 50% from 2019 to 2023.',\n",
       " 'Homeownership',\n",
       " 'Excluding the pandemic, Black homeownership rates averaged 42.2% under Trump and 45.4% under Biden.\\xa0',\n",
       " 'Still, Black Americans continue to have the lowest rates of homeownership among U.S. ethnic groups, with little progress made under either president. We rated Sen. Tim Scott, R-S.C., True when he said that \"For African American families in particular, the homeownership rate remains relatively unchanged since 1968, the year the Fair Housing Act was signed into law.\"',\n",
       " '',\n",
       " 'Health insurance coverage',\n",
       " 'After Democratic-led passage of the Affordable Care Act, which included health insurance marketplaces and federal premium subsidies, the share of Black Americans without health insurance declined in 2014 and continued to fall through 2016, Barack Obama’s last year in office.',\n",
       " 'Under Trump’s first three years in office, the Black uninsured rate rose again. (Data for the pandemic year of 2020 is unavailable.) But once Biden took office, the Black uninsured rate began falling again, hitting a record low in 2022 of 10%.',\n",
       " '',\n",
       " 'The gap in uninsurance between Black and white Americans has narrowed under Biden. At the Trump’s presidency’s onset, the gap was 3.8 percentage points. In 2022 under Biden, it was 3.4 percentage points.',\n",
       " '',\n",
       " 'Pew Research Center, \"An Early Look at Black Voters’ Views on Biden, Trump and Election 2024,\" May 20, 2024\\xa0',\n",
       " 'Pew Research Center, \"Behind Biden’s 2020 Victory,\" June 30, 2021',\n",
       " 'KFF, \"KFF Health Tracking Poll: Health Care Issues Emerge as Important Topics on 2024 Campaign Trail, Plus Concerns Loom Large Around Medicaid Unwinding,\" Dec. 1, 2023',\n",
       " 'Federal Reserve Bank of St. Louis, \"Unemployment Rate - Black or African American,\" accessed June 24, 2024',\n",
       " 'Federal Reserve Bank of St. Louis, \"Unemployment Rate - White,\" accessed June 24, 2024',\n",
       " 'Federal Reserve Bank of St. Louis, \"Unemployment Rate - Hispanic or Latino,\" accessed June 24, 2024',\n",
       " 'Federal Reserve Bank of St. Louis, \"Unemployment Rate - Asian,\" accessed June 24, 2024',\n",
       " 'Federal Reserve Bank of St. Louis, \"Labor Force Participation Rate - Black or African American,\" accessed June 24, 2024',\n",
       " 'Federal Reserve Bank of St. Louis, \"Labor Force Participation Rate - White,\" accessed June 24, 2024',\n",
       " 'Federal Reserve Bank of St. Louis, \"Labor Force Participation Rate - Hispanic or Latino,\" accessed June 24, 2024',\n",
       " 'Federal Reserve Bank of St. Louis, \"Labor Force Participation Rate - Asian,\" accessed June 24, 2024',\n",
       " 'Federal Reserve Bank of St. Louis, \"Employed full time: Median usual weekly real earnings: Wage and salary workers: 16 years and over: Black or African American,\" accessed June 24, 2024',\n",
       " 'Federal Reserve Bank of St. Louis, \"Employed full time: Median usual weekly real earnings: Wage and salary workers: 16 years and over: White,\" accessed June 24, 2024',\n",
       " 'Federal Reserve Bank of St. Louis, \"Employed full time: Median usual weekly real earnings: Wage and salary workers: 16 years and over: Hispanic or Latino,\" accessed June 24, 2024',\n",
       " 'Federal Reserve Bank of St. Louis, \"Employed full time: Median usual weekly real earnings: Wage and salary workers: 16 years and over: Asian,\" accessed June 24, 2024',\n",
       " 'Census Bureau, \"Table A-2. Households by Total Money Income, Race, and Hispanic Origin of Householder: 1967 to 2022,\" accessed June 24, 2024',\n",
       " 'Census Bureau, \"Table 2. Poverty Status of People by Family Relationship, Race, and Hispanic Origin,\" accessed June 24, 2024',\n",
       " 'Federal Reserve Bank of St. Louis, \"Homeownership Rates by Race and Ethnicity: Black Alone in the United States,\" accessed June 24, 2024',\n",
       " 'Federal Reserve Bank of St. Louis, \"Homeownership Rates by Race and Ethnicity: Non-Hispanic White Alone in the United States,\" accessed June 24, 2024',\n",
       " 'Federal Reserve Bank of St. Louis, \"Homeownership Rates by Race and Ethnicity: Hispanic (of Any Race) in the United States,\" accessed June 24, 2024',\n",
       " 'Federal Reserve Bank of St. Louis, \"Homeownership Rates by Race and Ethnicity: All Other Races: Asian, Native Hawaiian and Pacific Islander Alone in the United States,\" accessed June 24, 2024',\n",
       " 'KFF, \"Health Coverage by Race and Ethnicity, 2010-2022,\" Jan. 11, 2024',\n",
       " 'Center for Economic and Policy Research, \"The Pandemic and Self-Employment: An Update,\" Oct. 11, 2023',\n",
       " 'Joint Economic Committee Democrats, \"The Economic Status of Black Americans National and State Level Data,\" 2022\\xa0',\n",
       " 'PolitiFact, \"What President Joe Biden got right, and what he missed, about the racial wealth gap,\" Jan. 12, 2024',\n",
       " 'PolitiFact, \"Black poverty, unemployment set record lows on Trump’s watch, and on Biden’s, too,\" June 20, 2024',\n",
       " 'PolitiFact, \"Has Black entrepreneurship hit a record during Joe Biden’s presidency?\" Feb. 15, 2024',\n",
       " 'PolitiFact, \"Sen. Tim Scott said Black homeownership has been static since 1968 housing law. He’s right,\" May 19, 2023',\n",
       " 'Email interview with Gregory N. Price, professor of economics at the University of New Orleans, June 21, 2024',\n",
       " 'Email interview with Dean Baker, co-founder of the Center for Economic and Policy Research, June 24, 2024',\n",
       " 'Email interview with Tara Sinclair, George Washington University economist, June 25, 2024',\n",
       " 'Email interview with Gary Burtless, senior fellow with the Brookings Institution, June 24, 2024',\n",
       " '\\n\\nDistrict of Columbia\\n\\n\\n\\n1800 I Street NW\\n\\nWashington, DC\\n20006\\n',\n",
       " '\\n\\nFlorida\\n\\n\\n801 3rd St. S\\n\\nSt. Petersburg, FL\\n33701\\n727-821-9494\\n']"
      ]
     },
     "execution_count": 31,
     "metadata": {},
     "output_type": "execute_result"
    }
   ],
   "source": [
    "url = \"https://news.google.com/rss/articles/CBMiYmh0dHBzOi8vd3d3LnBvbGl0aWZhY3QuY29tL2FydGljbGUvMjAyNC9qdW4vMjUvY29tcGFyaW5nLWVjb25vbWljLXBlcmZvcm1hbmNlLWZvci1ibGFjay1hbWVyaWNhbnMv0gEA?oc=5\"\n",
    "#url2 = \"https://www.cnn.com/\"\n",
    "#url = data[2][1]\n",
    "#url=\"https://www.example.com\"\n",
    "chrome.get(url)\n",
    "time.sleep(3)\n",
    "html = chrome.page_source\n",
    "\n",
    "soup = bs4.BeautifulSoup(html, features='html.parser')\n",
    "\n",
    "text_data = []\n",
    "for tag in soup.find_all('p'):\n",
    "    text_data.append(tag.text)\n",
    "text_data"
   ]
  },
  {
   "cell_type": "code",
   "execution_count": 11,
   "metadata": {},
   "outputs": [],
   "source": [
    "chrome.close()"
   ]
  },
  {
   "cell_type": "code",
   "execution_count": null,
   "metadata": {},
   "outputs": [],
   "source": []
  }
 ],
 "metadata": {
  "kernelspec": {
   "display_name": "Python 3",
   "language": "python",
   "name": "python3"
  },
  "language_info": {
   "codemirror_mode": {
    "name": "ipython",
    "version": 3
   },
   "file_extension": ".py",
   "mimetype": "text/x-python",
   "name": "python",
   "nbconvert_exporter": "python",
   "pygments_lexer": "ipython3",
   "version": "3.9.6"
  }
 },
 "nbformat": 4,
 "nbformat_minor": 2
}
