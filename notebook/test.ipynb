{
 "cells": [
  {
   "cell_type": "markdown",
   "metadata": {},
   "source": [
    "# Notebook for Testing Purposes"
   ]
  },
  {
   "cell_type": "markdown",
   "metadata": {},
   "source": [
    "### Testing News API\n",
    "\n",
    "url: https://newsdata.io/api/1/latest\n",
    "<br>\n",
    "api docs: https://newsdata.io/documentation/#latest-news"
   ]
  },
  {
   "cell_type": "code",
   "execution_count": 1,
   "metadata": {},
   "outputs": [],
   "source": [
    "import json\n",
    "\n",
    "def read_secrets(secrets_file):\n",
    "    with open(secrets_file, \"r\") as file:\n",
    "        data = file.read()\n",
    "        return json.loads(data)"
   ]
  },
  {
   "cell_type": "code",
   "execution_count": 3,
   "metadata": {},
   "outputs": [
    {
     "ename": "FileNotFoundError",
     "evalue": "[Errno 2] No such file or directory: 'secrets.json'",
     "output_type": "error",
     "traceback": [
      "\u001b[0;31m---------------------------------------------------------------------------\u001b[0m",
      "\u001b[0;31mFileNotFoundError\u001b[0m                         Traceback (most recent call last)",
      "Cell \u001b[0;32mIn[3], line 3\u001b[0m\n\u001b[1;32m      1\u001b[0m \u001b[38;5;28;01mimport\u001b[39;00m \u001b[38;5;21;01mrequests\u001b[39;00m\n\u001b[0;32m----> 3\u001b[0m data \u001b[38;5;241m=\u001b[39m \u001b[43mread_secrets\u001b[49m\u001b[43m(\u001b[49m\u001b[38;5;124;43m\"\u001b[39;49m\u001b[38;5;124;43msecrets.json\u001b[39;49m\u001b[38;5;124;43m\"\u001b[39;49m\u001b[43m)\u001b[49m\n\u001b[1;32m      4\u001b[0m url \u001b[38;5;241m=\u001b[39m \u001b[38;5;124mf\u001b[39m\u001b[38;5;124m\"\u001b[39m\u001b[38;5;124mhttps://newsdata.io/api/1/latest?apikey=\u001b[39m\u001b[38;5;132;01m{\u001b[39;00mdata[\u001b[38;5;124m'\u001b[39m\u001b[38;5;124mnewsdata.io\u001b[39m\u001b[38;5;124m'\u001b[39m]\u001b[38;5;132;01m}\u001b[39;00m\u001b[38;5;124m&language=en&q=Palestine\u001b[39m\u001b[38;5;124m\"\u001b[39m\n\u001b[1;32m      5\u001b[0m response \u001b[38;5;241m=\u001b[39m requests\u001b[38;5;241m.\u001b[39mget(url)\n",
      "Cell \u001b[0;32mIn[1], line 4\u001b[0m, in \u001b[0;36mread_secrets\u001b[0;34m(secrets_file)\u001b[0m\n\u001b[1;32m      3\u001b[0m \u001b[38;5;28;01mdef\u001b[39;00m \u001b[38;5;21mread_secrets\u001b[39m(secrets_file):\n\u001b[0;32m----> 4\u001b[0m     \u001b[38;5;28;01mwith\u001b[39;00m \u001b[38;5;28;43mopen\u001b[39;49m\u001b[43m(\u001b[49m\u001b[43msecrets_file\u001b[49m\u001b[43m,\u001b[49m\u001b[43m \u001b[49m\u001b[38;5;124;43m\"\u001b[39;49m\u001b[38;5;124;43mr\u001b[39;49m\u001b[38;5;124;43m\"\u001b[39;49m\u001b[43m)\u001b[49m \u001b[38;5;28;01mas\u001b[39;00m file:\n\u001b[1;32m      5\u001b[0m         data \u001b[38;5;241m=\u001b[39m file\u001b[38;5;241m.\u001b[39mread()\n\u001b[1;32m      6\u001b[0m         \u001b[38;5;28;01mreturn\u001b[39;00m json\u001b[38;5;241m.\u001b[39mloads(data)\n",
      "File \u001b[0;32m~/Documents/Projects/llm-news-summarizer/.conda/lib/python3.11/site-packages/IPython/core/interactiveshell.py:324\u001b[0m, in \u001b[0;36m_modified_open\u001b[0;34m(file, *args, **kwargs)\u001b[0m\n\u001b[1;32m    317\u001b[0m \u001b[38;5;28;01mif\u001b[39;00m file \u001b[38;5;129;01min\u001b[39;00m {\u001b[38;5;241m0\u001b[39m, \u001b[38;5;241m1\u001b[39m, \u001b[38;5;241m2\u001b[39m}:\n\u001b[1;32m    318\u001b[0m     \u001b[38;5;28;01mraise\u001b[39;00m \u001b[38;5;167;01mValueError\u001b[39;00m(\n\u001b[1;32m    319\u001b[0m         \u001b[38;5;124mf\u001b[39m\u001b[38;5;124m\"\u001b[39m\u001b[38;5;124mIPython won\u001b[39m\u001b[38;5;124m'\u001b[39m\u001b[38;5;124mt let you open fd=\u001b[39m\u001b[38;5;132;01m{\u001b[39;00mfile\u001b[38;5;132;01m}\u001b[39;00m\u001b[38;5;124m by default \u001b[39m\u001b[38;5;124m\"\u001b[39m\n\u001b[1;32m    320\u001b[0m         \u001b[38;5;124m\"\u001b[39m\u001b[38;5;124mas it is likely to crash IPython. If you know what you are doing, \u001b[39m\u001b[38;5;124m\"\u001b[39m\n\u001b[1;32m    321\u001b[0m         \u001b[38;5;124m\"\u001b[39m\u001b[38;5;124myou can use builtins\u001b[39m\u001b[38;5;124m'\u001b[39m\u001b[38;5;124m open.\u001b[39m\u001b[38;5;124m\"\u001b[39m\n\u001b[1;32m    322\u001b[0m     )\n\u001b[0;32m--> 324\u001b[0m \u001b[38;5;28;01mreturn\u001b[39;00m \u001b[43mio_open\u001b[49m\u001b[43m(\u001b[49m\u001b[43mfile\u001b[49m\u001b[43m,\u001b[49m\u001b[43m \u001b[49m\u001b[38;5;241;43m*\u001b[39;49m\u001b[43margs\u001b[49m\u001b[43m,\u001b[49m\u001b[43m \u001b[49m\u001b[38;5;241;43m*\u001b[39;49m\u001b[38;5;241;43m*\u001b[39;49m\u001b[43mkwargs\u001b[49m\u001b[43m)\u001b[49m\n",
      "\u001b[0;31mFileNotFoundError\u001b[0m: [Errno 2] No such file or directory: 'secrets.json'"
     ]
    }
   ],
   "source": [
    "import requests\n",
    "\n",
    "data = read_secrets(\"secrets.json\")\n",
    "url = f\"https://newsdata.io/api/1/latest?apikey={data['newsdata.io']}&language=en&q=Palestine\"\n",
    "response = requests.get(url)\n",
    "response.json()['results'][0]"
   ]
  },
  {
   "cell_type": "code",
   "execution_count": 30,
   "metadata": {},
   "outputs": [
    {
     "data": {
      "text/plain": [
       "{'article_id': '9544d5562f924a80e13b22cf31c6f054',\n",
       " 'title': 'Labor senator crosses floor to support Palestine statehood',\n",
       " 'link': 'https://www.bluemountainsgazette.com.au/story/8675053/fatima-payman-crosses-floor-on-palestine-recognition-vote/?src=rss',\n",
       " 'keywords': None,\n",
       " 'creator': ['Miriam Webber'],\n",
       " 'video_url': None,\n",
       " 'description': 'Senator says she made the decision in the chamber.',\n",
       " 'content': 'ONLY AVAILABLE IN PAID PLANS',\n",
       " 'pubDate': '2024-06-25 07:56:00',\n",
       " 'image_url': 'https://www.bluemountainsgazette.com.au/images/transform/v1/crop/frm/143258707/cce4e2db-4214-460b-a3eb-adfbb42a0782.jpg/r0_336_5000_3153_w600_h338_fmax.jpg',\n",
       " 'source_id': 'bluemountainsgazette',\n",
       " 'source_priority': 899530,\n",
       " 'source_url': 'https://www.bluemountainsgazette.com.au',\n",
       " 'source_icon': 'https://i.bytvi.com/domain_icons/bluemountainsgazette.png',\n",
       " 'language': 'english',\n",
       " 'country': ['australia'],\n",
       " 'category': ['top'],\n",
       " 'ai_tag': 'ONLY AVAILABLE IN PROFESSIONAL AND CORPORATE PLANS',\n",
       " 'sentiment': 'ONLY AVAILABLE IN PROFESSIONAL AND CORPORATE PLANS',\n",
       " 'sentiment_stats': 'ONLY AVAILABLE IN PROFESSIONAL AND CORPORATE PLANS',\n",
       " 'ai_region': 'ONLY AVAILABLE IN CORPORATE PLANS',\n",
       " 'ai_org': 'ONLY AVAILABLE IN CORPORATE PLANS'}"
      ]
     },
     "execution_count": 30,
     "metadata": {},
     "output_type": "execute_result"
    }
   ],
   "source": [
    "data = read_secrets(\"secrets.json\")\n",
    "url = f\"https://newsdata.io/api/1/latest?apikey={data['newsdata.io']}&language=en&q=Palestine\"\n",
    "response = requests.get(url)\n",
    "response.json()['results'][0]"
   ]
  },
  {
   "cell_type": "code",
   "execution_count": 1,
   "metadata": {},
   "outputs": [
    {
     "ename": "NameError",
     "evalue": "name 'data' is not defined",
     "output_type": "error",
     "traceback": [
      "\u001b[0;31m---------------------------------------------------------------------------\u001b[0m",
      "\u001b[0;31mNameError\u001b[0m                                 Traceback (most recent call last)",
      "Cell \u001b[0;32mIn[1], line 3\u001b[0m\n\u001b[1;32m      1\u001b[0m \u001b[38;5;28;01mimport\u001b[39;00m \u001b[38;5;21;01murllib\u001b[39;00m\n\u001b[1;32m      2\u001b[0m params \u001b[38;5;241m=\u001b[39m urllib\u001b[38;5;241m.\u001b[39mparse\u001b[38;5;241m.\u001b[39murlencode({\n\u001b[0;32m----> 3\u001b[0m     \u001b[38;5;124m'\u001b[39m\u001b[38;5;124mapi_token\u001b[39m\u001b[38;5;124m'\u001b[39m: \u001b[43mdata\u001b[49m[\u001b[38;5;124m'\u001b[39m\u001b[38;5;124mthenewsapi.com\u001b[39m\u001b[38;5;124m'\u001b[39m],\n\u001b[1;32m      4\u001b[0m     \u001b[38;5;124m'\u001b[39m\u001b[38;5;124mcategories\u001b[39m\u001b[38;5;124m'\u001b[39m: \u001b[38;5;124m'\u001b[39m\u001b[38;5;124mbusiness,tech\u001b[39m\u001b[38;5;124m'\u001b[39m,\n\u001b[1;32m      5\u001b[0m     \u001b[38;5;124m'\u001b[39m\u001b[38;5;124mlanguage\u001b[39m\u001b[38;5;124m'\u001b[39m: \u001b[38;5;124m'\u001b[39m\u001b[38;5;124men\u001b[39m\u001b[38;5;124m'\u001b[39m,\n\u001b[1;32m      6\u001b[0m     \u001b[38;5;124m'\u001b[39m\u001b[38;5;124mlocale\u001b[39m\u001b[38;5;124m'\u001b[39m: \u001b[38;5;124m'\u001b[39m\u001b[38;5;124mus\u001b[39m\u001b[38;5;124m'\u001b[39m\n\u001b[1;32m      7\u001b[0m     })\n\u001b[1;32m      8\u001b[0m url \u001b[38;5;241m=\u001b[39m \u001b[38;5;124m\"\u001b[39m\u001b[38;5;124mhttps://api.thenewsapi.com/v1/news/top?\u001b[39m\u001b[38;5;132;01m{}\u001b[39;00m\u001b[38;5;124m\"\u001b[39m\u001b[38;5;241m.\u001b[39mformat(params)\n\u001b[1;32m      9\u001b[0m resp \u001b[38;5;241m=\u001b[39m requests\u001b[38;5;241m.\u001b[39mget(url)\n",
      "\u001b[0;31mNameError\u001b[0m: name 'data' is not defined"
     ]
    }
   ],
   "source": [
    "import urllib\n",
    "params = urllib.parse.urlencode({\n",
    "    'api_token': data['thenewsapi.com'],\n",
    "    'categories': 'business,tech',\n",
    "    'language': 'en',\n",
    "    'locale': 'us'\n",
    "    })\n",
    "url = \"https://api.thenewsapi.com/v1/news/top?{}\".format(params)\n",
    "resp = requests.get(url)"
   ]
  },
  {
   "cell_type": "code",
   "execution_count": 41,
   "metadata": {},
   "outputs": [
    {
     "data": {
      "text/plain": [
       "{'meta': {'found': 242441, 'returned': 3, 'limit': 3, 'page': 1},\n",
       " 'data': [{'uuid': 'a392b09a-9137-4f62-9e14-1b83533cedec',\n",
       "   'title': \"We're not ready to echo Goldman's call to buy Disney — here's why\",\n",
       "   'description': 'Goldman Sachs offers plenty of reasons to like Disney in the years ahead. But Jim Cramer expects the near-term road to remain choppy for the stock.',\n",
       "   'keywords': 'Breaking News: Business, Jim Cramer, stock takes, Investment strategy, Markets, Breaking News: Markets, Walt Disney Co, Fox Corp. Class A, Comcast Corp, Netflix Inc, Media, business news',\n",
       "   'snippet': \"Disney picked up an endorsement from a top Wall Street firm — but Jim Cramer said the analysts' reasons to buy are not enough to drive the stock higher. Goldm...\",\n",
       "   'url': 'https://www.cnbc.com/2024/06/25/were-not-ready-to-echo-goldmans-call-to-buy-disney-heres-why-.html',\n",
       "   'image_url': 'https://image.cnbcfm.com/api/v1/image/107368218-1706880038262-gettyimages-1978616072-jr024368_t0xr.jpeg?v=1719335298&w=1920&h=1080',\n",
       "   'language': 'en',\n",
       "   'published_at': '2024-06-25T19:35:53.000000Z',\n",
       "   'source': 'cnbc.com',\n",
       "   'categories': ['general', 'business'],\n",
       "   'relevance_score': None,\n",
       "   'locale': 'us'},\n",
       "  {'uuid': '8dea93b9-52bb-4eaf-b972-1d5d3349e079',\n",
       "   'title': 'Reasons to Add Evergy Shares to Your Portfolio Now - Evergy (NASDAQ:EVRG), Consolidated Edison (NYSE:ED)',\n",
       "   'description': \"Evergy's (NASDAQ: EVRG) systematic investments to strengthen its infrastructure will assist it in improving service reliability. EVRG continues to benefit from ...\",\n",
       "   'keywords': '',\n",
       "   'snippet': \"Loading... Loading...\\n\\nEvergy's EVRG systematic investments to strengthen its infrastructure will assist it in improving service reliability. EVRG continues to ...\",\n",
       "   'url': 'https://www.benzinga.com/news/earnings/24/06/39481108/reasons-to-add-evergy-shares-to-your-portfolio-now',\n",
       "   'image_url': 'https://cdn.benzinga.com/files/images/story/2024/06/25/mathieu-stern-1zo4o3z0uja-unsplash_0.jpg?width=1200&height=800&fit=crop',\n",
       "   'language': 'en',\n",
       "   'published_at': '2024-06-25T19:33:11.000000Z',\n",
       "   'source': 'benzinga.com',\n",
       "   'categories': ['business'],\n",
       "   'relevance_score': None,\n",
       "   'locale': 'us'},\n",
       "  {'uuid': '1213dd74-245f-4922-983f-7d2e2bdf89ca',\n",
       "   'title': 'Large Banks to be Conservative About Shareholder Payouts - Citigroup (NYSE:C), Bank of America (NYSE:BAC)',\n",
       "   'description': \"The Federal Reserve is slated to announce its annual bank health check results on Jun 26. Also known as the ‘stress test' the results will show how much capit...\",\n",
       "   'keywords': '',\n",
       "   'snippet': \"Loading... Loading...\\n\\nThe Federal Reserve is slated to announce its annual bank health check results on Jun 26. Also known as the ‘stress test' the results w...\",\n",
       "   'url': 'https://www.benzinga.com/news/24/06/39481120/large-banks-to-be-conservative-about-shareholder-payouts',\n",
       "   'image_url': 'https://cdn.benzinga.com/files/images/story/2024/06/25/alexander-mils-lcphgxs7pww-unsplash_0.jpg?width=1200&height=800&fit=crop',\n",
       "   'language': 'en',\n",
       "   'published_at': '2024-06-25T19:32:38.000000Z',\n",
       "   'source': 'benzinga.com',\n",
       "   'categories': ['business'],\n",
       "   'relevance_score': None,\n",
       "   'locale': 'us'}]}"
      ]
     },
     "execution_count": 41,
     "metadata": {},
     "output_type": "execute_result"
    }
   ],
   "source": [
    "resp.json()"
   ]
  },
  {
   "cell_type": "code",
   "execution_count": 7,
   "metadata": {},
   "outputs": [
    {
     "name": "stdout",
     "output_type": "stream",
     "text": [
      "Reading now:  https://news.google.com/rss/search?q=\"economics\"\n"
     ]
    }
   ],
   "source": [
    "import time\n",
    "import re\n",
    "import bs4\n",
    "import urllib\n",
    "import urllib.request as ur\n",
    "import feedparser\n",
    "# Get Alexa Rank - remember it only works from USA so you need a proxy\n",
    "def getMetrics(url):\n",
    "    cleanDomain = '/'.join(url.split('/')[:3])\n",
    "    try:\n",
    "        alexa_rank = bs4.BeautifulSoup(ur.urlopen(\"http://data.alexa.com/data?cli=10&dat=s&url=\"+ url), \"xml\").find(\"REACH\")[\"RANK\"]\n",
    "    except:\n",
    "        alexa_rank = None\n",
    "    return alexa_rank\n",
    " \n",
    "# HTML cleanup function\n",
    "def cleanhtml(raw_html):\n",
    "  cleanr = re.compile('<.*?>')\n",
    "  cleantext = re.sub(cleanr, '', raw_html)\n",
    "  return cleantext\n",
    "\n",
    "# Access the feed and store data in d\n",
    "def readFeed(url,query):\n",
    "\n",
    "    feed = feedparser.parse(url)\n",
    "\n",
    "    # Loop items in the feed\n",
    "    d = []\n",
    "\n",
    "    for post in feed.entries:\n",
    "        title = post.title\n",
    "        link = post.link\n",
    "        # Converting published date to aaaa/mm/dd\n",
    "        pubDate = \"%d/%02d/%02d\" % (post.published_parsed.tm_year,\\\n",
    "            post.published_parsed.tm_mon, \\\n",
    "            post.published_parsed.tm_mday)\n",
    "\n",
    "        description = cleanhtml(post.summary)\n",
    "        source = post.source.title\n",
    "        # Get Alexa Rank\n",
    "        alexa_rank = getMetrics(link)\n",
    "        d.append((title, link, pubDate, description, source, query, alexa_rank))\n",
    "        #print(d)\n",
    "    \n",
    "    # Add delay between calls\n",
    "    time.sleep(2)\n",
    "    return d\n",
    "\n",
    "query = \"economics\"\n",
    "# URL encode the query and add quotes around it\n",
    "encoded_query = '\"' + urllib.parse.quote_plus(query) + '\"'        \n",
    "# Compose the URL    \n",
    "\n",
    "# Feed URL\n",
    "base_url = 'https://news.google.com/rss/search?q='\n",
    "\n",
    "url = base_url + encoded_query\n",
    "print(\"Reading now: \",url)\n",
    "# Read the Feed\n",
    "data = readFeed(url, query)"
   ]
  },
  {
   "cell_type": "code",
   "execution_count": 13,
   "metadata": {},
   "outputs": [],
   "source": [
    "#reference I followed: https://towardsdatascience.com/how-to-use-selenium-to-web-scrape-with-example-80f9b23a843a\n",
    "# \n",
    "from selenium import webdriver\n",
    "from selenium.webdriver.common.keys import Keys\n",
    "import pandas as pd\n",
    "#driver = webdriver.Chrome('/Users/mmuthaiya/Downloads/chromedriver-mac-x64/chromedriver')"
   ]
  },
  {
   "cell_type": "code",
   "execution_count": 23,
   "metadata": {},
   "outputs": [],
   "source": [
    "#url = \"https://news.google.com/rss/articles/CBMiYmh0dHBzOi8vd3d3LnBvbGl0aWZhY3QuY29tL2FydGljbGUvMjAyNC9qdW4vMjUvY29tcGFyaW5nLWVjb25vbWljLXBlcmZvcm1hbmNlLWZvci1ibGFjay1hbWVyaWNhbnMv0gEA?oc=5\"\n",
    "driver = webdriver.Chrome()\n",
    "url = data[5][1]\n",
    "driver.get(url)"
   ]
  },
  {
   "cell_type": "code",
   "execution_count": 24,
   "metadata": {},
   "outputs": [
    {
     "name": "stdout",
     "output_type": "stream",
     "text": [
      "\n",
      "\n",
      "\n",
      "\n",
      "\n",
      "\n",
      "The Washington Center for Equitable Growth today announced a new slate of grantees. These 10 scholars responded to a Request for Proposals specifically targeted at those early in their careers whose research is policy-relevant and can inform how policymakers can take action to create more stable, broadly shared U.S. economic growth.\n",
      "Equitable Growth is committed to funding the next generation of scholars and supporting them to ensure the research they produce informs evidence-backed policymaking.  We are also committed to supporting diversity across the social sciences—especially in economics, which lags other disciplines in gender, racial, and ethnic diversity. All researchers affiliated with a U.S. university whose Ph.D. was issued within the past 8 years, as well as current graduate students in the dissertation stage of a Ph.D. program at a U.S. university, were eligible to apply.\n",
      "“These scholars represent a new generation of researchers looking into why inequality continues to be a drag on the U.S. economy and how we might combat it,” said Equitable Growth President and CEO Shayna Strom. “We are proud to help make their research accessible to all and support them as they produce evidence-backed ideas that will shape economic policies for years to come.”\n",
      "The Request for Proposals was split into an array of issue areas: macroeconomic growth, fiscal policy, human capital and well-being, economic mobility, the labor market, and market structure. Equitable Growth was particularly interested in funding research that will generate actionable insights, illuminate policies that help or hinder equitable economic growth, or uncover a need for policy action. Applicants who will create new data that can be made publicly available were prioritized, as were those who engage with the literature across disciplines and those examining the role of racial stratification in the issue they seek to study.\n",
      "Below, we detail the pre-tenure academics, who will each receive $30,000 from Equitable Growth, and their proposed research.\n",
      "The following Ph.D. students (some of whom have completed their doctorate since applying to the RFP and are in early-career positions at U.S. universities) will receive $15,000 from Equitable Growth to advance their research:\n",
      "This Request for Proposals helps Equitable Growth work toward its longstanding goal of supporting early career scholars from diverse backgrounds and in varying stages of their academic careers. The competitive process includes a review by our esteemed review committees, made up of staff and external subject-matter and methodological experts, as well as final approval from our Steering Committee.\n",
      "We thank all who applied for this year’s Early Career Request for Proposals for their hard work and heartily congratulate the 2024 cohort of early career grantees. We look forward to reviewing their findings and related studies in the future.\n",
      "Did you find this content informative and engaging?\n",
      "Get updates and stay in tune with U.S. economic inequality and growth!\n",
      "ECONOMIC INEQUALITY\n",
      "November 30, 2023\n",
      "\n",
      "August 28, 2024\n",
      "\n",
      "August 31, 2023\n",
      "\n",
      "Explore the Equitable Growth network of experts around the country and get answers to today's most pressing questions!\n",
      "\n",
      "March 29, 2024\n",
      "\n",
      "January 17, 2023\n",
      "© Equitable Growth\n",
      "Equitable Growth is a registered 501(c)3 organization\n"
     ]
    }
   ],
   "source": [
    "from selenium.webdriver.common.by import By\n",
    "vals = driver.find_elements(By.TAG_NAME, \"p\")\n",
    "for i in vals:\n",
    "    print(i.text)"
   ]
  },
  {
   "cell_type": "code",
   "execution_count": 25,
   "metadata": {},
   "outputs": [
    {
     "data": {
      "text/plain": [
       "['Equitable Growth supports research and policy analysis on how strong competition among U.S. businesses affects inequality and broad-based economic growth. More\\n',\n",
       " 'Equitable Growth supports research and policy analysis on how unequal access to care, 21st century work-life policies, and education undermines stable, broad-based economic growth. More\\n',\n",
       " 'Equitable Growth supports research and policy analysis on how trends in economic inequality and mobility and changes in the economy have affected the concentration of wealth, income, and earnings, and how these distributional shifts have affected the promise of economic security and opportunity. More\\n',\n",
       " 'Equitable Growth supports research and policy analysis on how inequalities in wages, bargaining power, and the evolving labor market affect workers’ economic security and opportunity as well as broad-based economic growth. More\\n',\n",
       " 'Equitable Growth supports research and policy analysis on how tax and macroeconomic policies can promote stable and broad-based economic growth. More\\n',\n",
       " '\\nEconomic Inequality\\n          \\n',\n",
       " 'The Washington Center for Equitable Growth today announced a new slate of grantees. These 10 scholars responded to a Request for Proposals specifically targeted at those early in their careers whose research is policy-relevant and can inform how policymakers can take action to create more stable, broadly shared U.S. economic growth.',\n",
       " 'Equitable Growth is committed to funding the next generation of scholars and supporting them to ensure the research they produce informs evidence-backed policymaking.\\xa0 We are also committed to supporting diversity across the social sciences—especially in economics, which lags other disciplines in gender, racial, and ethnic diversity. All researchers affiliated with a U.S. university whose Ph.D. was issued within the past 8 years, as well as current graduate students in the dissertation stage of a Ph.D. program at a U.S. university, were eligible to apply.',\n",
       " '“These scholars represent a new generation of researchers looking into why inequality continues to be a drag on the U.S. economy and how we might combat it,” said Equitable Growth President and CEO Shayna Strom. “We are proud to help make their research accessible to all and support them as they produce evidence-backed ideas that will shape economic policies for years to come.”',\n",
       " 'The Request for Proposals was split into an array of issue areas: macroeconomic growth, fiscal policy, human capital and well-being, economic mobility, the labor market, and market structure. Equitable Growth was particularly interested in funding research that will generate actionable insights, illuminate policies that help or hinder equitable economic growth, or uncover a need for policy action. Applicants who will create new data that can be made publicly available were prioritized, as were those who engage with the literature across disciplines and those examining the role of racial stratification in the issue they seek to study.',\n",
       " 'Below, we detail the pre-tenure academics, who will each receive $30,000 from Equitable Growth, and their proposed research.',\n",
       " 'The following Ph.D. students (some of whom have completed their doctorate since applying to the RFP and are in early-career positions at U.S. universities) will receive $15,000 from Equitable Growth to advance their research:',\n",
       " 'This Request for Proposals helps Equitable Growth work toward its longstanding goal of supporting early career scholars from diverse backgrounds and in varying stages of their academic careers. The competitive process includes a review by our esteemed review committees, made up of staff and external subject-matter and methodological experts, as well as final approval from our Steering Committee.',\n",
       " 'We thank all who applied for this year’s Early Career Request for Proposals for their hard work and heartily congratulate the 2024 cohort of early career grantees. We look forward to reviewing their findings and related studies in the future.',\n",
       " 'Did you find this content informative and engaging?Get updates\\xa0and stay in tune with U.S. economic inequality and growth!',\n",
       " '\\nEconomic Inequality\\n          \\n',\n",
       " 'November 30, 2023',\n",
       " 'November 30, 2023',\n",
       " 'August 28, 2024',\n",
       " 'August 28, 2024',\n",
       " 'August 31, 2023',\n",
       " 'August 31, 2023',\n",
       " \"Explore the Equitable Growth network of experts around the country and get answers to today's most pressing questions!\",\n",
       " 'March 29, 2024',\n",
       " 'March 29, 2024',\n",
       " 'January 17, 2023',\n",
       " 'January 17, 2023',\n",
       " '© Equitable Growth',\n",
       " 'Equitable Growth is a registered 501(c)3 organization']"
      ]
     },
     "execution_count": 25,
     "metadata": {},
     "output_type": "execute_result"
    }
   ],
   "source": [
    "html = driver.page_source\n",
    "\n",
    "soup = bs4.BeautifulSoup(html)\n",
    "\n",
    "text_data = []\n",
    "for tag in soup.find_all('p'):\n",
    "    text_data.append(tag.text)\n",
    "text_data"
   ]
  },
  {
   "cell_type": "code",
   "execution_count": 26,
   "metadata": {},
   "outputs": [],
   "source": [
    "driver.close()"
   ]
  },
  {
   "cell_type": "code",
   "execution_count": 31,
   "metadata": {},
   "outputs": [
    {
     "ename": "WebDriverException",
     "evalue": "Message: disconnected: Unable to receive message from renderer\n  (failed to check if window was closed: disconnected: not connected to DevTools)\n  (Session info: chrome=128.0.6613.114)\nStacktrace:\n0   chromedriver                        0x0000000109c9f238 chromedriver + 5095992\n1   chromedriver                        0x0000000109c96a6a chromedriver + 5061226\n2   chromedriver                        0x0000000109821fd0 chromedriver + 389072\n3   chromedriver                        0x000000010980a84a chromedriver + 292938\n4   chromedriver                        0x000000010980a56a chromedriver + 292202\n5   chromedriver                        0x0000000109808888 chromedriver + 284808\n6   chromedriver                        0x0000000109808dba chromedriver + 286138\n7   chromedriver                        0x0000000109807981 chromedriver + 280961\n8   chromedriver                        0x000000010980f643 chromedriver + 312899\n9   chromedriver                        0x00000001098076c9 chromedriver + 280265\n10  chromedriver                        0x000000010980a24a chromedriver + 291402\n11  chromedriver                        0x0000000109808888 chromedriver + 284808\n12  chromedriver                        0x0000000109808dba chromedriver + 286138\n13  chromedriver                        0x0000000109807981 chromedriver + 280961\n14  chromedriver                        0x00000001097fee27 chromedriver + 245287\n15  chromedriver                        0x00000001098076c9 chromedriver + 280265\n16  chromedriver                        0x0000000109806fe5 chromedriver + 278501\n17  chromedriver                        0x0000000109806b40 chromedriver + 277312\n18  chromedriver                        0x00000001098241fe chromedriver + 397822\n19  chromedriver                        0x00000001097f8a0e chromedriver + 219662\n20  chromedriver                        0x00000001097f84f1 chromedriver + 218353\n21  chromedriver                        0x000000010989eef7 chromedriver + 900855\n22  chromedriver                        0x0000000109892c93 chromedriver + 851091\n23  chromedriver                        0x0000000109861c79 chromedriver + 650361\n24  chromedriver                        0x000000010986249e chromedriver + 652446\n25  chromedriver                        0x0000000109c61fb0 chromedriver + 4845488\n26  chromedriver                        0x0000000109c66ec8 chromedriver + 4865736\n27  chromedriver                        0x0000000109c67595 chromedriver + 4867477\n28  chromedriver                        0x0000000109c44be9 chromedriver + 4725737\n29  chromedriver                        0x0000000109c67889 chromedriver + 4868233\n30  chromedriver                        0x0000000109c36b04 chromedriver + 4668164\n31  chromedriver                        0x0000000109c86d68 chromedriver + 4996456\n32  chromedriver                        0x0000000109c86f67 chromedriver + 4996967\n33  chromedriver                        0x0000000109c9666e chromedriver + 5060206\n34  libsystem_pthread.dylib             0x00007ff806cda4e1 _pthread_start + 125\n35  libsystem_pthread.dylib             0x00007ff806cd5f6b thread_start + 15\n",
     "output_type": "error",
     "traceback": [
      "\u001b[0;31m---------------------------------------------------------------------------\u001b[0m",
      "\u001b[0;31mWebDriverException\u001b[0m                        Traceback (most recent call last)",
      "Cell \u001b[0;32mIn[31], line 21\u001b[0m\n\u001b[1;32m     18\u001b[0m options\u001b[38;5;241m.\u001b[39madd_argument(\u001b[38;5;124mf\u001b[39m\u001b[38;5;124m\"\u001b[39m\u001b[38;5;124m--disk-cache-dir=\u001b[39m\u001b[38;5;132;01m{\u001b[39;00mmkdtemp()\u001b[38;5;132;01m}\u001b[39;00m\u001b[38;5;124m\"\u001b[39m)\n\u001b[1;32m     19\u001b[0m options\u001b[38;5;241m.\u001b[39madd_argument(\u001b[38;5;124m\"\u001b[39m\u001b[38;5;124m--remote-debugging-port=9222\u001b[39m\u001b[38;5;124m\"\u001b[39m)\n\u001b[0;32m---> 21\u001b[0m chrome \u001b[38;5;241m=\u001b[39m \u001b[43mwebdriver\u001b[49m\u001b[38;5;241;43m.\u001b[39;49m\u001b[43mChrome\u001b[49m\u001b[43m(\u001b[49m\u001b[43moptions\u001b[49m\u001b[38;5;241;43m=\u001b[39;49m\u001b[43moptions\u001b[49m\u001b[43m,\u001b[49m\u001b[43m \u001b[49m\u001b[43mservice\u001b[49m\u001b[38;5;241;43m=\u001b[39;49m\u001b[43mservice\u001b[49m\u001b[43m)\u001b[49m\n",
      "File \u001b[0;32m~/Documents/Projects/llm-news-summarizer/.conda/lib/python3.11/site-packages/selenium/webdriver/chrome/webdriver.py:45\u001b[0m, in \u001b[0;36mWebDriver.__init__\u001b[0;34m(self, options, service, keep_alive)\u001b[0m\n\u001b[1;32m     42\u001b[0m service \u001b[38;5;241m=\u001b[39m service \u001b[38;5;28;01mif\u001b[39;00m service \u001b[38;5;28;01melse\u001b[39;00m Service()\n\u001b[1;32m     43\u001b[0m options \u001b[38;5;241m=\u001b[39m options \u001b[38;5;28;01mif\u001b[39;00m options \u001b[38;5;28;01melse\u001b[39;00m Options()\n\u001b[0;32m---> 45\u001b[0m \u001b[38;5;28;43msuper\u001b[39;49m\u001b[43m(\u001b[49m\u001b[43m)\u001b[49m\u001b[38;5;241;43m.\u001b[39;49m\u001b[38;5;21;43m__init__\u001b[39;49m\u001b[43m(\u001b[49m\n\u001b[1;32m     46\u001b[0m \u001b[43m    \u001b[49m\u001b[43mbrowser_name\u001b[49m\u001b[38;5;241;43m=\u001b[39;49m\u001b[43mDesiredCapabilities\u001b[49m\u001b[38;5;241;43m.\u001b[39;49m\u001b[43mCHROME\u001b[49m\u001b[43m[\u001b[49m\u001b[38;5;124;43m\"\u001b[39;49m\u001b[38;5;124;43mbrowserName\u001b[39;49m\u001b[38;5;124;43m\"\u001b[39;49m\u001b[43m]\u001b[49m\u001b[43m,\u001b[49m\n\u001b[1;32m     47\u001b[0m \u001b[43m    \u001b[49m\u001b[43mvendor_prefix\u001b[49m\u001b[38;5;241;43m=\u001b[39;49m\u001b[38;5;124;43m\"\u001b[39;49m\u001b[38;5;124;43mgoog\u001b[39;49m\u001b[38;5;124;43m\"\u001b[39;49m\u001b[43m,\u001b[49m\n\u001b[1;32m     48\u001b[0m \u001b[43m    \u001b[49m\u001b[43moptions\u001b[49m\u001b[38;5;241;43m=\u001b[39;49m\u001b[43moptions\u001b[49m\u001b[43m,\u001b[49m\n\u001b[1;32m     49\u001b[0m \u001b[43m    \u001b[49m\u001b[43mservice\u001b[49m\u001b[38;5;241;43m=\u001b[39;49m\u001b[43mservice\u001b[49m\u001b[43m,\u001b[49m\n\u001b[1;32m     50\u001b[0m \u001b[43m    \u001b[49m\u001b[43mkeep_alive\u001b[49m\u001b[38;5;241;43m=\u001b[39;49m\u001b[43mkeep_alive\u001b[49m\u001b[43m,\u001b[49m\n\u001b[1;32m     51\u001b[0m \u001b[43m\u001b[49m\u001b[43m)\u001b[49m\n",
      "File \u001b[0;32m~/Documents/Projects/llm-news-summarizer/.conda/lib/python3.11/site-packages/selenium/webdriver/chromium/webdriver.py:66\u001b[0m, in \u001b[0;36mChromiumDriver.__init__\u001b[0;34m(self, browser_name, vendor_prefix, options, service, keep_alive)\u001b[0m\n\u001b[1;32m     57\u001b[0m executor \u001b[38;5;241m=\u001b[39m ChromiumRemoteConnection(\n\u001b[1;32m     58\u001b[0m     remote_server_addr\u001b[38;5;241m=\u001b[39m\u001b[38;5;28mself\u001b[39m\u001b[38;5;241m.\u001b[39mservice\u001b[38;5;241m.\u001b[39mservice_url,\n\u001b[1;32m     59\u001b[0m     browser_name\u001b[38;5;241m=\u001b[39mbrowser_name,\n\u001b[0;32m   (...)\u001b[0m\n\u001b[1;32m     62\u001b[0m     ignore_proxy\u001b[38;5;241m=\u001b[39moptions\u001b[38;5;241m.\u001b[39m_ignore_local_proxy,\n\u001b[1;32m     63\u001b[0m )\n\u001b[1;32m     65\u001b[0m \u001b[38;5;28;01mtry\u001b[39;00m:\n\u001b[0;32m---> 66\u001b[0m     \u001b[38;5;28;43msuper\u001b[39;49m\u001b[43m(\u001b[49m\u001b[43m)\u001b[49m\u001b[38;5;241;43m.\u001b[39;49m\u001b[38;5;21;43m__init__\u001b[39;49m\u001b[43m(\u001b[49m\u001b[43mcommand_executor\u001b[49m\u001b[38;5;241;43m=\u001b[39;49m\u001b[43mexecutor\u001b[49m\u001b[43m,\u001b[49m\u001b[43m \u001b[49m\u001b[43moptions\u001b[49m\u001b[38;5;241;43m=\u001b[39;49m\u001b[43moptions\u001b[49m\u001b[43m)\u001b[49m\n\u001b[1;32m     67\u001b[0m \u001b[38;5;28;01mexcept\u001b[39;00m \u001b[38;5;167;01mException\u001b[39;00m:\n\u001b[1;32m     68\u001b[0m     \u001b[38;5;28mself\u001b[39m\u001b[38;5;241m.\u001b[39mquit()\n",
      "File \u001b[0;32m~/Documents/Projects/llm-news-summarizer/.conda/lib/python3.11/site-packages/selenium/webdriver/remote/webdriver.py:212\u001b[0m, in \u001b[0;36mWebDriver.__init__\u001b[0;34m(self, command_executor, keep_alive, file_detector, options)\u001b[0m\n\u001b[1;32m    210\u001b[0m \u001b[38;5;28mself\u001b[39m\u001b[38;5;241m.\u001b[39m_authenticator_id \u001b[38;5;241m=\u001b[39m \u001b[38;5;28;01mNone\u001b[39;00m\n\u001b[1;32m    211\u001b[0m \u001b[38;5;28mself\u001b[39m\u001b[38;5;241m.\u001b[39mstart_client()\n\u001b[0;32m--> 212\u001b[0m \u001b[38;5;28;43mself\u001b[39;49m\u001b[38;5;241;43m.\u001b[39;49m\u001b[43mstart_session\u001b[49m\u001b[43m(\u001b[49m\u001b[43mcapabilities\u001b[49m\u001b[43m)\u001b[49m\n\u001b[1;32m    214\u001b[0m \u001b[38;5;28mself\u001b[39m\u001b[38;5;241m.\u001b[39m_websocket_connection \u001b[38;5;241m=\u001b[39m \u001b[38;5;28;01mNone\u001b[39;00m\n\u001b[1;32m    215\u001b[0m \u001b[38;5;28mself\u001b[39m\u001b[38;5;241m.\u001b[39m_script \u001b[38;5;241m=\u001b[39m \u001b[38;5;28;01mNone\u001b[39;00m\n",
      "File \u001b[0;32m~/Documents/Projects/llm-news-summarizer/.conda/lib/python3.11/site-packages/selenium/webdriver/remote/webdriver.py:299\u001b[0m, in \u001b[0;36mWebDriver.start_session\u001b[0;34m(self, capabilities)\u001b[0m\n\u001b[1;32m    292\u001b[0m \u001b[38;5;250m\u001b[39m\u001b[38;5;124;03m\"\"\"Creates a new session with the desired capabilities.\u001b[39;00m\n\u001b[1;32m    293\u001b[0m \n\u001b[1;32m    294\u001b[0m \u001b[38;5;124;03m:Args:\u001b[39;00m\n\u001b[1;32m    295\u001b[0m \u001b[38;5;124;03m - capabilities - a capabilities dict to start the session with.\u001b[39;00m\n\u001b[1;32m    296\u001b[0m \u001b[38;5;124;03m\"\"\"\u001b[39;00m\n\u001b[1;32m    298\u001b[0m caps \u001b[38;5;241m=\u001b[39m _create_caps(capabilities)\n\u001b[0;32m--> 299\u001b[0m response \u001b[38;5;241m=\u001b[39m \u001b[38;5;28;43mself\u001b[39;49m\u001b[38;5;241;43m.\u001b[39;49m\u001b[43mexecute\u001b[49m\u001b[43m(\u001b[49m\u001b[43mCommand\u001b[49m\u001b[38;5;241;43m.\u001b[39;49m\u001b[43mNEW_SESSION\u001b[49m\u001b[43m,\u001b[49m\u001b[43m \u001b[49m\u001b[43mcaps\u001b[49m\u001b[43m)\u001b[49m[\u001b[38;5;124m\"\u001b[39m\u001b[38;5;124mvalue\u001b[39m\u001b[38;5;124m\"\u001b[39m]\n\u001b[1;32m    300\u001b[0m \u001b[38;5;28mself\u001b[39m\u001b[38;5;241m.\u001b[39msession_id \u001b[38;5;241m=\u001b[39m response\u001b[38;5;241m.\u001b[39mget(\u001b[38;5;124m\"\u001b[39m\u001b[38;5;124msessionId\u001b[39m\u001b[38;5;124m\"\u001b[39m)\n\u001b[1;32m    301\u001b[0m \u001b[38;5;28mself\u001b[39m\u001b[38;5;241m.\u001b[39mcaps \u001b[38;5;241m=\u001b[39m response\u001b[38;5;241m.\u001b[39mget(\u001b[38;5;124m\"\u001b[39m\u001b[38;5;124mcapabilities\u001b[39m\u001b[38;5;124m\"\u001b[39m)\n",
      "File \u001b[0;32m~/Documents/Projects/llm-news-summarizer/.conda/lib/python3.11/site-packages/selenium/webdriver/remote/webdriver.py:354\u001b[0m, in \u001b[0;36mWebDriver.execute\u001b[0;34m(self, driver_command, params)\u001b[0m\n\u001b[1;32m    352\u001b[0m response \u001b[38;5;241m=\u001b[39m \u001b[38;5;28mself\u001b[39m\u001b[38;5;241m.\u001b[39mcommand_executor\u001b[38;5;241m.\u001b[39mexecute(driver_command, params)\n\u001b[1;32m    353\u001b[0m \u001b[38;5;28;01mif\u001b[39;00m response:\n\u001b[0;32m--> 354\u001b[0m     \u001b[38;5;28;43mself\u001b[39;49m\u001b[38;5;241;43m.\u001b[39;49m\u001b[43merror_handler\u001b[49m\u001b[38;5;241;43m.\u001b[39;49m\u001b[43mcheck_response\u001b[49m\u001b[43m(\u001b[49m\u001b[43mresponse\u001b[49m\u001b[43m)\u001b[49m\n\u001b[1;32m    355\u001b[0m     response[\u001b[38;5;124m\"\u001b[39m\u001b[38;5;124mvalue\u001b[39m\u001b[38;5;124m\"\u001b[39m] \u001b[38;5;241m=\u001b[39m \u001b[38;5;28mself\u001b[39m\u001b[38;5;241m.\u001b[39m_unwrap_value(response\u001b[38;5;241m.\u001b[39mget(\u001b[38;5;124m\"\u001b[39m\u001b[38;5;124mvalue\u001b[39m\u001b[38;5;124m\"\u001b[39m, \u001b[38;5;28;01mNone\u001b[39;00m))\n\u001b[1;32m    356\u001b[0m     \u001b[38;5;28;01mreturn\u001b[39;00m response\n",
      "File \u001b[0;32m~/Documents/Projects/llm-news-summarizer/.conda/lib/python3.11/site-packages/selenium/webdriver/remote/errorhandler.py:229\u001b[0m, in \u001b[0;36mErrorHandler.check_response\u001b[0;34m(self, response)\u001b[0m\n\u001b[1;32m    227\u001b[0m         alert_text \u001b[38;5;241m=\u001b[39m value[\u001b[38;5;124m\"\u001b[39m\u001b[38;5;124malert\u001b[39m\u001b[38;5;124m\"\u001b[39m]\u001b[38;5;241m.\u001b[39mget(\u001b[38;5;124m\"\u001b[39m\u001b[38;5;124mtext\u001b[39m\u001b[38;5;124m\"\u001b[39m)\n\u001b[1;32m    228\u001b[0m     \u001b[38;5;28;01mraise\u001b[39;00m exception_class(message, screen, stacktrace, alert_text)  \u001b[38;5;66;03m# type: ignore[call-arg]  # mypy is not smart enough here\u001b[39;00m\n\u001b[0;32m--> 229\u001b[0m \u001b[38;5;28;01mraise\u001b[39;00m exception_class(message, screen, stacktrace)\n",
      "\u001b[0;31mWebDriverException\u001b[0m: Message: disconnected: Unable to receive message from renderer\n  (failed to check if window was closed: disconnected: not connected to DevTools)\n  (Session info: chrome=128.0.6613.114)\nStacktrace:\n0   chromedriver                        0x0000000109c9f238 chromedriver + 5095992\n1   chromedriver                        0x0000000109c96a6a chromedriver + 5061226\n2   chromedriver                        0x0000000109821fd0 chromedriver + 389072\n3   chromedriver                        0x000000010980a84a chromedriver + 292938\n4   chromedriver                        0x000000010980a56a chromedriver + 292202\n5   chromedriver                        0x0000000109808888 chromedriver + 284808\n6   chromedriver                        0x0000000109808dba chromedriver + 286138\n7   chromedriver                        0x0000000109807981 chromedriver + 280961\n8   chromedriver                        0x000000010980f643 chromedriver + 312899\n9   chromedriver                        0x00000001098076c9 chromedriver + 280265\n10  chromedriver                        0x000000010980a24a chromedriver + 291402\n11  chromedriver                        0x0000000109808888 chromedriver + 284808\n12  chromedriver                        0x0000000109808dba chromedriver + 286138\n13  chromedriver                        0x0000000109807981 chromedriver + 280961\n14  chromedriver                        0x00000001097fee27 chromedriver + 245287\n15  chromedriver                        0x00000001098076c9 chromedriver + 280265\n16  chromedriver                        0x0000000109806fe5 chromedriver + 278501\n17  chromedriver                        0x0000000109806b40 chromedriver + 277312\n18  chromedriver                        0x00000001098241fe chromedriver + 397822\n19  chromedriver                        0x00000001097f8a0e chromedriver + 219662\n20  chromedriver                        0x00000001097f84f1 chromedriver + 218353\n21  chromedriver                        0x000000010989eef7 chromedriver + 900855\n22  chromedriver                        0x0000000109892c93 chromedriver + 851091\n23  chromedriver                        0x0000000109861c79 chromedriver + 650361\n24  chromedriver                        0x000000010986249e chromedriver + 652446\n25  chromedriver                        0x0000000109c61fb0 chromedriver + 4845488\n26  chromedriver                        0x0000000109c66ec8 chromedriver + 4865736\n27  chromedriver                        0x0000000109c67595 chromedriver + 4867477\n28  chromedriver                        0x0000000109c44be9 chromedriver + 4725737\n29  chromedriver                        0x0000000109c67889 chromedriver + 4868233\n30  chromedriver                        0x0000000109c36b04 chromedriver + 4668164\n31  chromedriver                        0x0000000109c86d68 chromedriver + 4996456\n32  chromedriver                        0x0000000109c86f67 chromedriver + 4996967\n33  chromedriver                        0x0000000109c9666e chromedriver + 5060206\n34  libsystem_pthread.dylib             0x00007ff806cda4e1 _pthread_start + 125\n35  libsystem_pthread.dylib             0x00007ff806cd5f6b thread_start + 15\n"
     ]
    }
   ],
   "source": [
    "from tempfile import mkdtemp\n",
    "from selenium import webdriver\n",
    "\n",
    "options = webdriver.ChromeOptions()\n",
    "service = webdriver.ChromeService(\"/Users/pradeepmuthaiya/Downloads/chromedriver-mac-x64/chromedriver\")\n",
    "\n",
    "#options.binary_location = '/opt/chrome/chrome'\n",
    "options.add_argument(\"--headless=new\")\n",
    "options.add_argument('--no-sandbox')\n",
    "options.add_argument(\"--disable-gpu\")\n",
    "options.add_argument(\"--window-size=1280x1696\")\n",
    "options.add_argument(\"--single-process\")\n",
    "options.add_argument(\"--disable-dev-shm-usage\")\n",
    "options.add_argument(\"--disable-dev-tools\")\n",
    "options.add_argument(\"--no-zygote\")\n",
    "options.add_argument(f\"--user-data-dir={mkdtemp()}\")\n",
    "options.add_argument(f\"--data-path={mkdtemp()}\")\n",
    "options.add_argument(f\"--disk-cache-dir={mkdtemp()}\")\n",
    "options.add_argument(\"--remote-debugging-port=9222\")\n",
    "\n",
    "chrome = webdriver.Chrome(options=options, service=service)"
   ]
  },
  {
   "cell_type": "code",
   "execution_count": 19,
   "metadata": {},
   "outputs": [
    {
     "data": {
      "text/plain": [
       "'https://news.google.com/rss/articles/CBMiZ2h0dHBzOi8vd3d3LmZveG5ld3MuY29tL3BvbGl0aWNzL3RvcC1lY29ub21pc3RzLWNsYWltLXRydW1wLWVjb25vbWljLWRpc2FzdGVyLXRoZXktc2FpZC1zYW1lLXRoaW5nLTIwMTbSAWtodHRwczovL3d3dy5mb3huZXdzLmNvbS9wb2xpdGljcy90b3AtZWNvbm9taXN0cy1jbGFpbS10cnVtcC1lY29ub21pYy1kaXNhc3Rlci10aGV5LXNhaWQtc2FtZS10aGluZy0yMDE2LmFtcA?oc=5'"
      ]
     },
     "execution_count": 19,
     "metadata": {},
     "output_type": "execute_result"
    }
   ],
   "source": [
    "data[2][1]"
   ]
  },
  {
   "cell_type": "code",
   "execution_count": 28,
   "metadata": {},
   "outputs": [],
   "source": []
  },
  {
   "cell_type": "code",
   "execution_count": 31,
   "metadata": {},
   "outputs": [
    {
     "data": {
      "text/plain": [
       "['\\n(Shutterstock)\\n',\n",
       " 'As they face off in this year’s election, both President Joe Biden and former President Donald Trump have aggressively courted Black Americans’ votes.\\xa0',\n",
       " 'Historically, Black voters have overwhelmingly backed Democrats, but polling so far this year shows some openness among Black voters, especially Black men, to support Trump. In May, the Pew Research Center reported that, at least this early in the presidential race, Biden has a 77%-18% edge over Trump among Black voters, which is lower than it was for Biden in 2020 (92%-8%) or for fellow Democrat Hillary Clinton in 2016 (91%-6%).',\n",
       " 'Both Trump and Biden have made pitches about Black economic success on their watches, sometimes with mixed levels of accuracy.',\n",
       " 'Trump said his administration \"achieved the lowest African American unemployment rate and the lowest African American poverty rate ever recorded.\" Both metrics did reach record lows under Trump, but then went on to surpass those record lows under Biden. So we rated this Trump claim Half True.',\n",
       " 'Biden got a Half True rating for saying, \"The racial wealth gap is the smallest it’s been in 20 years.\" Economists use two measures to assess the racial wealth gap, and Biden’s statement covered only one of them.\\xa0',\n",
       " 'With 2024’s first presidential debate set for June 27 in Atlanta, a region with a large and politically pivotal Black population, race and the economy could be discussed. So, we absorbed a wide array of economic statistics about how Black Americans have fared under Trump and Biden and present them here.',\n",
       " 'Although the coronavirus pandemic skewed some economic statistics, we generally found that Black Americans fared well by historical standards during Donald Trump’s presidency. Still, they have fared even better under President Joe Biden.',\n",
       " '\"Setting aside the severe shock caused by the Covid pandemic, the absolute and relative economic status of African Americans improved under both presidents,\" said Gary Burtless, an economist with the Brookings Institution, a Washington, D.C. think tank. \"Nonetheless, looking closely at most of the economic indicators, I think we’d have to give the nod to economic progress achieved during the Biden years. The latest numbers suggest that the relative wage gains of workers in the lower ranks of the earnings distribution, including African Americans, have persisted up through the present.\"',\n",
       " 'Particularly for such metrics as inflation-adjusted household income, business startups and health insurance coverage, \"Black Americans fared better under Biden relative to Trump,\" said Gregory N. Price, an economics professor at the University of New Orleans.',\n",
       " 'However, persistent gaps separating whites and Blacks remain, and by most metrics, neither Trump nor Biden has closed them significantly.\\xa0\\xa0',\n",
       " 'A reminder: No president is all-powerful in shaping economic outcomes. This applies equally to both Trump and Biden.',\n",
       " 'Here’s our rundown of several key economic metrics.',\n",
       " 'The unemployment rate',\n",
       " 'Setting aside the coronavirus pandemic’s swift, severe disruptions, both Trump and Biden had relatively low Black unemployment rates during their presidencies. But the rates under Biden have been lower.\\xa0',\n",
       " 'Not only did this metric return to 6.5%, its approximate prepandemic level, under Biden in November 2021, but it went on to hit a record low 4.8% in April 2023. Not counting the peak pandemic period of April 2020 to October 2021, Black unemployment has averaged 5.86% under Biden, which is lower than the 6.65% level under Trump.',\n",
       " 'How quickly Black unemployment has improved has been impressive, said Tara Sinclair, a George Washington University economist who recently completed a stint as deputy assistant secretary for macroeconomics in the Treasury Department’s Office of Economic Policy.\\xa0',\n",
       " 'The Black unemployment rate peaked at similar levels in 2010, during the Great Recession, and in 2020, during the pandemic recession. But after the Great Recession, it took more than nine years to get the rate sustainably below 6.5%, compared with less than two years after the pandemic recession peak.',\n",
       " 'The gap in unemployment rate between Black Americans and white Americans persists. Once again excluding the peak pandemic period of April 2020 to October 2021, the average difference between Black and white unemployment rates was 3.16 percentage points under Trump and 3.29 percentage points under Biden.',\n",
       " 'Labor force participation rate',\n",
       " 'The labor force participation rate measures what share of the population is employed or looking for work. A higher rate is economically desirable, because more workers produce more goods or services and can spend the money they earn elsewhere in the economy.',\n",
       " 'For Black Americans, labor force participation hovered between 62% and 63% before the pandemic under Trump. After returning to nearly 62% under Biden in January 2022, the metric has continued to rise. Since September 2023, it has risen as high as 63.7% in two months and hasn’t fallen below 62.9%.\\xa0',\n",
       " 'Black labor force participation was hit harder during the pandemic than white labor force participation. But by early February 2022, Black labor force participation caught up with white labor force participation and has kept rising. Today, it stands 0.7 percentage points higher than for whites.',\n",
       " '',\n",
       " 'This is historically unusual, Sinclair said. From the mid-1970s to 2021, the white labor force participation rate almost always exceeded the Black labor force participation rate. For most of Biden’s tenure, the opposite has been true.',\n",
       " 'Wages and income',\n",
       " 'The single biggest challenge economically for Biden has been inflation, which hit 40-year highs of about 9% in summer 2022 before falling to around 3% within a year.',\n",
       " 'Despite this, wage growth has been healthy for Black Americans — and more so under Biden than under Trump.',\n",
       " 'After adjusting for inflation, weekly earnings for full-time Black workers under Trump averaged $280.80 before the pandemic. Despite higher inflation, take-home pay for Black workers starting in 2022’s first quarter has averaged $299.90, a level almost 7% higher under Biden.',\n",
       " 'Black earnings have continued to trail white earnings by fairly consistent margins.',\n",
       " '',\n",
       " 'Another metric, inflation-adjusted household income, shows a similar story. Black household incomes rose under Trump but have continued rising — slightly — under Biden.',\n",
       " '',\n",
       " 'Neither Trump nor Biden presided over any significant narrowing of the five-decade household income gap between Black and white households.',\n",
       " '',\n",
       " 'Poverty',\n",
       " 'Poverty data is released only once a year, and the last year available is 2022. That data shows the Black poverty rate has been lower under Biden than it was under Trump.',\n",
       " 'The lowest annual rate under Trump came in 2019, when it was 18.8%. Under Biden, it fell to 17.1% in 2022.',\n",
       " '',\n",
       " 'Black-owned businesses',\n",
       " 'The number of Black-owned businesses began rising under Trump, but it has kept rising under Biden, according to Census Bureau data.\\xa0',\n",
       " '',\n",
       " 'Another metric, the Federal Reserve’s Survey of Consumer Finances, conducted every three years, tracks with what the Census Bureau found. The 2022 Fed survey, the first conducted since 2019, found that 11% of Black households held equity in a business, far higher than the previous record of 6.6% in 2016 and the 4.8% recorded in 2019.',\n",
       " 'And a study by the liberal Center for Economic and Policy Research found that the share of Black workers who are self-employed increased by 50% from 2019 to 2023.',\n",
       " 'Homeownership',\n",
       " 'Excluding the pandemic, Black homeownership rates averaged 42.2% under Trump and 45.4% under Biden.\\xa0',\n",
       " 'Still, Black Americans continue to have the lowest rates of homeownership among U.S. ethnic groups, with little progress made under either president. We rated Sen. Tim Scott, R-S.C., True when he said that \"For African American families in particular, the homeownership rate remains relatively unchanged since 1968, the year the Fair Housing Act was signed into law.\"',\n",
       " '',\n",
       " 'Health insurance coverage',\n",
       " 'After Democratic-led passage of the Affordable Care Act, which included health insurance marketplaces and federal premium subsidies, the share of Black Americans without health insurance declined in 2014 and continued to fall through 2016, Barack Obama’s last year in office.',\n",
       " 'Under Trump’s first three years in office, the Black uninsured rate rose again. (Data for the pandemic year of 2020 is unavailable.) But once Biden took office, the Black uninsured rate began falling again, hitting a record low in 2022 of 10%.',\n",
       " '',\n",
       " 'The gap in uninsurance between Black and white Americans has narrowed under Biden. At the Trump’s presidency’s onset, the gap was 3.8 percentage points. In 2022 under Biden, it was 3.4 percentage points.',\n",
       " '',\n",
       " 'Pew Research Center, \"An Early Look at Black Voters’ Views on Biden, Trump and Election 2024,\" May 20, 2024\\xa0',\n",
       " 'Pew Research Center, \"Behind Biden’s 2020 Victory,\" June 30, 2021',\n",
       " 'KFF, \"KFF Health Tracking Poll: Health Care Issues Emerge as Important Topics on 2024 Campaign Trail, Plus Concerns Loom Large Around Medicaid Unwinding,\" Dec. 1, 2023',\n",
       " 'Federal Reserve Bank of St. Louis, \"Unemployment Rate - Black or African American,\" accessed June 24, 2024',\n",
       " 'Federal Reserve Bank of St. Louis, \"Unemployment Rate - White,\" accessed June 24, 2024',\n",
       " 'Federal Reserve Bank of St. Louis, \"Unemployment Rate - Hispanic or Latino,\" accessed June 24, 2024',\n",
       " 'Federal Reserve Bank of St. Louis, \"Unemployment Rate - Asian,\" accessed June 24, 2024',\n",
       " 'Federal Reserve Bank of St. Louis, \"Labor Force Participation Rate - Black or African American,\" accessed June 24, 2024',\n",
       " 'Federal Reserve Bank of St. Louis, \"Labor Force Participation Rate - White,\" accessed June 24, 2024',\n",
       " 'Federal Reserve Bank of St. Louis, \"Labor Force Participation Rate - Hispanic or Latino,\" accessed June 24, 2024',\n",
       " 'Federal Reserve Bank of St. Louis, \"Labor Force Participation Rate - Asian,\" accessed June 24, 2024',\n",
       " 'Federal Reserve Bank of St. Louis, \"Employed full time: Median usual weekly real earnings: Wage and salary workers: 16 years and over: Black or African American,\" accessed June 24, 2024',\n",
       " 'Federal Reserve Bank of St. Louis, \"Employed full time: Median usual weekly real earnings: Wage and salary workers: 16 years and over: White,\" accessed June 24, 2024',\n",
       " 'Federal Reserve Bank of St. Louis, \"Employed full time: Median usual weekly real earnings: Wage and salary workers: 16 years and over: Hispanic or Latino,\" accessed June 24, 2024',\n",
       " 'Federal Reserve Bank of St. Louis, \"Employed full time: Median usual weekly real earnings: Wage and salary workers: 16 years and over: Asian,\" accessed June 24, 2024',\n",
       " 'Census Bureau, \"Table A-2. Households by Total Money Income, Race, and Hispanic Origin of Householder: 1967 to 2022,\" accessed June 24, 2024',\n",
       " 'Census Bureau, \"Table 2. Poverty Status of People by Family Relationship, Race, and Hispanic Origin,\" accessed June 24, 2024',\n",
       " 'Federal Reserve Bank of St. Louis, \"Homeownership Rates by Race and Ethnicity: Black Alone in the United States,\" accessed June 24, 2024',\n",
       " 'Federal Reserve Bank of St. Louis, \"Homeownership Rates by Race and Ethnicity: Non-Hispanic White Alone in the United States,\" accessed June 24, 2024',\n",
       " 'Federal Reserve Bank of St. Louis, \"Homeownership Rates by Race and Ethnicity: Hispanic (of Any Race) in the United States,\" accessed June 24, 2024',\n",
       " 'Federal Reserve Bank of St. Louis, \"Homeownership Rates by Race and Ethnicity: All Other Races: Asian, Native Hawaiian and Pacific Islander Alone in the United States,\" accessed June 24, 2024',\n",
       " 'KFF, \"Health Coverage by Race and Ethnicity, 2010-2022,\" Jan. 11, 2024',\n",
       " 'Center for Economic and Policy Research, \"The Pandemic and Self-Employment: An Update,\" Oct. 11, 2023',\n",
       " 'Joint Economic Committee Democrats, \"The Economic Status of Black Americans National and State Level Data,\" 2022\\xa0',\n",
       " 'PolitiFact, \"What President Joe Biden got right, and what he missed, about the racial wealth gap,\" Jan. 12, 2024',\n",
       " 'PolitiFact, \"Black poverty, unemployment set record lows on Trump’s watch, and on Biden’s, too,\" June 20, 2024',\n",
       " 'PolitiFact, \"Has Black entrepreneurship hit a record during Joe Biden’s presidency?\" Feb. 15, 2024',\n",
       " 'PolitiFact, \"Sen. Tim Scott said Black homeownership has been static since 1968 housing law. He’s right,\" May 19, 2023',\n",
       " 'Email interview with Gregory N. Price, professor of economics at the University of New Orleans, June 21, 2024',\n",
       " 'Email interview with Dean Baker, co-founder of the Center for Economic and Policy Research, June 24, 2024',\n",
       " 'Email interview with Tara Sinclair, George Washington University economist, June 25, 2024',\n",
       " 'Email interview with Gary Burtless, senior fellow with the Brookings Institution, June 24, 2024',\n",
       " '\\n\\nDistrict of Columbia\\n\\n\\n\\n1800 I Street NW\\n\\nWashington, DC\\n20006\\n',\n",
       " '\\n\\nFlorida\\n\\n\\n801 3rd St. S\\n\\nSt. Petersburg, FL\\n33701\\n727-821-9494\\n']"
      ]
     },
     "execution_count": 31,
     "metadata": {},
     "output_type": "execute_result"
    }
   ],
   "source": [
    "url = \"https://news.google.com/rss/articles/CBMiYmh0dHBzOi8vd3d3LnBvbGl0aWZhY3QuY29tL2FydGljbGUvMjAyNC9qdW4vMjUvY29tcGFyaW5nLWVjb25vbWljLXBlcmZvcm1hbmNlLWZvci1ibGFjay1hbWVyaWNhbnMv0gEA?oc=5\"\n",
    "#url2 = \"https://www.cnn.com/\"\n",
    "#url = data[2][1]\n",
    "#url=\"https://www.example.com\"\n",
    "chrome.get(url)\n",
    "time.sleep(3)\n",
    "html = chrome.page_source\n",
    "\n",
    "soup = bs4.BeautifulSoup(html, features='html.parser')\n",
    "\n",
    "text_data = []\n",
    "for tag in soup.find_all('p'):\n",
    "    text_data.append(tag.text)\n",
    "text_data"
   ]
  },
  {
   "cell_type": "code",
   "execution_count": 11,
   "metadata": {},
   "outputs": [],
   "source": [
    "chrome.close()"
   ]
  },
  {
   "cell_type": "code",
   "execution_count": null,
   "metadata": {},
   "outputs": [],
   "source": []
  }
 ],
 "metadata": {
  "kernelspec": {
   "display_name": "Python 3",
   "language": "python",
   "name": "python3"
  },
  "language_info": {
   "codemirror_mode": {
    "name": "ipython",
    "version": 3
   },
   "file_extension": ".py",
   "mimetype": "text/x-python",
   "name": "python",
   "nbconvert_exporter": "python",
   "pygments_lexer": "ipython3",
   "version": "3.11.9"
  }
 },
 "nbformat": 4,
 "nbformat_minor": 2
}
